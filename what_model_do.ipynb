{
 "cells": [
  {
   "cell_type": "code",
   "execution_count": null,
   "metadata": {},
   "outputs": [],
   "source": [
    "# question 1\n",
    "\n",
    "# the force of toss a coin\n",
    "# the size of the coin\n",
    "# the thickness\n",
    "# the surface area\n",
    "# the distance between the starting point to the landing point\n",
    "# the starting surface head or tail\n",
    "# the weight or material of the coin\n",
    "\n",
    "# question2\n",
    "\n",
    "# the time when you watch\n",
    "# how long you watch\n",
    "# the device you are watching on\n",
    "# genre/categories you prefer\n",
    "# actors you watch\n",
    "# other member with similar tastes\n",
    "\n",
    "# the other thing can be added is age, gender affect on preference of watching. User area/countries may also share some similarities \n",
    "# as watch preference.\n",
    "\n",
    "\n",
    "\n"
   ]
  }
 ],
 "metadata": {
  "kernelspec": {
   "display_name": "Python 3",
   "language": "python",
   "name": "python3"
  },
  "language_info": {
   "codemirror_mode": {
    "name": "ipython",
    "version": 3
   },
   "file_extension": ".py",
   "mimetype": "text/x-python",
   "name": "python",
   "nbconvert_exporter": "python",
   "pygments_lexer": "ipython3",
   "version": "3.7.3"
  }
 },
 "nbformat": 4,
 "nbformat_minor": 2
}
