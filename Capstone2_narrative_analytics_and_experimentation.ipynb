{
 "cells": [
  {
   "cell_type": "code",
   "execution_count": 1,
   "metadata": {},
   "outputs": [],
   "source": [
    "%matplotlib inline\n",
    "import pandas as pd\n",
    "import numpy as np\n",
    "import seaborn as sns\n",
    "from matplotlib import pyplot as plt\n",
    "from scipy import stats"
   ]
  },
  {
   "cell_type": "code",
   "execution_count": null,
   "metadata": {},
   "outputs": [],
   "source": [
    "# the goal of this project is to find out if the new web page will improve the membership registration.\n",
    "# the hypothesis is that the new designed page will convert more regular users to memnership program.\n",
    "\n",
    "# the plan is to randomly separate all the regular users into two groups with similar sample characteristics\n",
    "# such as age or gender. Then one group will use the old page as a control version and the other group will\n",
    "# use the new page as a test version. \n",
    "\n",
    "# key factor for evaluation is number of users that converted to membership, if there is a significant different\n",
    "# for the number of users that converted as using the old and new page. then we can decide if we need to\n",
    "# change the web_page"
   ]
  },
  {
   "cell_type": "code",
   "execution_count": 3,
   "metadata": {},
   "outputs": [
    {
     "data": {
      "text/html": [
       "<div>\n",
       "<style scoped>\n",
       "    .dataframe tbody tr th:only-of-type {\n",
       "        vertical-align: middle;\n",
       "    }\n",
       "\n",
       "    .dataframe tbody tr th {\n",
       "        vertical-align: top;\n",
       "    }\n",
       "\n",
       "    .dataframe thead th {\n",
       "        text-align: right;\n",
       "    }\n",
       "</style>\n",
       "<table border=\"1\" class=\"dataframe\">\n",
       "  <thead>\n",
       "    <tr style=\"text-align: right;\">\n",
       "      <th></th>\n",
       "      <th>user_id</th>\n",
       "      <th>timestamp</th>\n",
       "      <th>group</th>\n",
       "      <th>landing_page</th>\n",
       "      <th>converted</th>\n",
       "    </tr>\n",
       "  </thead>\n",
       "  <tbody>\n",
       "    <tr>\n",
       "      <th>0</th>\n",
       "      <td>851104</td>\n",
       "      <td>2017-01-21 22:11:48.556739</td>\n",
       "      <td>control</td>\n",
       "      <td>old_page</td>\n",
       "      <td>0</td>\n",
       "    </tr>\n",
       "    <tr>\n",
       "      <th>1</th>\n",
       "      <td>804228</td>\n",
       "      <td>2017-01-12 08:01:45.159739</td>\n",
       "      <td>control</td>\n",
       "      <td>old_page</td>\n",
       "      <td>0</td>\n",
       "    </tr>\n",
       "    <tr>\n",
       "      <th>2</th>\n",
       "      <td>661590</td>\n",
       "      <td>2017-01-11 16:55:06.154213</td>\n",
       "      <td>treatment</td>\n",
       "      <td>new_page</td>\n",
       "      <td>0</td>\n",
       "    </tr>\n",
       "    <tr>\n",
       "      <th>3</th>\n",
       "      <td>853541</td>\n",
       "      <td>2017-01-08 18:28:03.143765</td>\n",
       "      <td>treatment</td>\n",
       "      <td>new_page</td>\n",
       "      <td>0</td>\n",
       "    </tr>\n",
       "    <tr>\n",
       "      <th>4</th>\n",
       "      <td>864975</td>\n",
       "      <td>2017-01-21 01:52:26.210827</td>\n",
       "      <td>control</td>\n",
       "      <td>old_page</td>\n",
       "      <td>1</td>\n",
       "    </tr>\n",
       "  </tbody>\n",
       "</table>\n",
       "</div>"
      ],
      "text/plain": [
       "   user_id                   timestamp      group landing_page  converted\n",
       "0   851104  2017-01-21 22:11:48.556739    control     old_page          0\n",
       "1   804228  2017-01-12 08:01:45.159739    control     old_page          0\n",
       "2   661590  2017-01-11 16:55:06.154213  treatment     new_page          0\n",
       "3   853541  2017-01-08 18:28:03.143765  treatment     new_page          0\n",
       "4   864975  2017-01-21 01:52:26.210827    control     old_page          1"
      ]
     },
     "execution_count": 3,
     "metadata": {},
     "output_type": "execute_result"
    }
   ],
   "source": [
    "data = pd.read_csv('ab_data.csv')\n",
    "data.head()"
   ]
  },
  {
   "cell_type": "code",
   "execution_count": 13,
   "metadata": {},
   "outputs": [
    {
     "name": "stdout",
     "output_type": "stream",
     "text": [
      "147202\n",
      "147276\n",
      "0.12039917935897611\n",
      "0.11891957956489856\n"
     ]
    },
    {
     "data": {
      "text/plain": [
       "Ttest_indResult(statistic=1.2369207675839395, pvalue=0.21611748562490837)"
      ]
     },
     "execution_count": 13,
     "metadata": {},
     "output_type": "execute_result"
    }
   ],
   "source": [
    "control_size = len(data[data['group']=='control'])\n",
    "print(control_size)\n",
    "treatment_size = len(data[data['group']=='treatment'])\n",
    "print(treatment_size)\n",
    "\n",
    "percentage_converted_old_page = data[data['group']=='control']['converted'].mean()\n",
    "print(percentage_converted_old_page)\n",
    "\n",
    "percentage_converted_new_page = data[data['group']=='treatment']['converted'].mean()\n",
    "print(percentage_converted_new_page)\n",
    "\n",
    "stats.ttest_ind(data[data.group=='control'].converted, data[data.group=='treatment'].converted)\n",
    "\n",
    "# From the t_test the t_value is not big and the p_value is much higher than the threshold 0.05, so it \n",
    "# indicating that there is no clear different between using new and old page for attacting more users \n",
    "# become members"
   ]
  },
  {
   "cell_type": "code",
   "execution_count": 46,
   "metadata": {},
   "outputs": [],
   "source": [
    "# some secondary factor may worth for further investing, the time may be sensitive since it may take\n",
    "# longer time to convert a regular user to membership than expected, but it does not mean new page does\n",
    "# not work better than old page\n",
    "\n",
    "import datetime as dt\n",
    "\n",
    "data['timestamp'] = data['timestamp'].apply(lambda x : pd.to_datetime(str(x)))\n",
    "data['date'] =  data['timestamp'].dt.date\n",
    "# data.head()\n",
    "\n",
    "y1 = data[data.group=='control'].groupby('date')['converted'].mean()\n",
    "y2 = data[data.group=='treatment'].groupby('date')['converted'].mean()\n"
   ]
  },
  {
   "cell_type": "code",
   "execution_count": 59,
   "metadata": {},
   "outputs": [
    {
     "data": {
      "text/plain": [
       "(array([736330., 736334., 736338., 736342., 736346., 736350., 736354.]),\n",
       " <a list of 7 Text xticklabel objects>)"
      ]
     },
     "execution_count": 59,
     "metadata": {},
     "output_type": "execute_result"
    },
    {
     "data": {
      "image/png": "[encoded data removed]",
      "text/plain": [
       "<Figure size 432x288 with 1 Axes>"
      ]
     },
     "metadata": {
      "needs_background": "light"
     },
     "output_type": "display_data"
    }
   ],
   "source": [
    "plt.plot(y1)\n",
    "plt.plot(y2)\n",
    "\n",
    "plt.xlabel('date')\n",
    "plt.ylabel('convert percentage')\n",
    "plt.xticks(rotation = 30)\n",
    "\n",
    "# after study the time effect on the new page and old page, it seems that over a period time both \n",
    "# new and old page perform very similar, so there is no need for swich to the new page design"
   ]
  },
  {
   "cell_type": "code",
   "execution_count": null,
   "metadata": {},
   "outputs": [],
   "source": []
  }
 ],
 "metadata": {
  "kernelspec": {
   "display_name": "Python 3",
   "language": "python",
   "name": "python3"
  },
  "language_info": {
   "codemirror_mode": {
    "name": "ipython",
    "version": 3
   },
   "file_extension": ".py",
   "mimetype": "text/x-python",
   "name": "python",
   "nbconvert_exporter": "python",
   "pygments_lexer": "ipython3",
   "version": "3.7.3"
  }
 },
 "nbformat": 4,
 "nbformat_minor": 2
}
