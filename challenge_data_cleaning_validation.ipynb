{
 "cells": [
  {
   "cell_type": "code",
   "execution_count": 9,
   "metadata": {},
   "outputs": [],
   "source": [
    "import pandas as pd\n",
    "import numpy as np\n",
    "import matplotlib.pyplot as plt\n",
    "import seaborn as sns\n",
    "from pandas import DataFrame\n",
    "%matplotlib inline"
   ]
  },
  {
   "cell_type": "code",
   "execution_count": 18,
   "metadata": {},
   "outputs": [
    {
     "data": {
      "text/html": [
       "<div>\n",
       "<style scoped>\n",
       "    .dataframe tbody tr th:only-of-type {\n",
       "        vertical-align: middle;\n",
       "    }\n",
       "\n",
       "    .dataframe tbody tr th {\n",
       "        vertical-align: top;\n",
       "    }\n",
       "\n",
       "    .dataframe thead th {\n",
       "        text-align: right;\n",
       "    }\n",
       "</style>\n",
       "<table border=\"1\" class=\"dataframe\">\n",
       "  <thead>\n",
       "    <tr style=\"text-align: right;\">\n",
       "      <th></th>\n",
       "      <th>PMID/PMCID</th>\n",
       "      <th>Publisher</th>\n",
       "      <th>Journal title</th>\n",
       "      <th>Article title</th>\n",
       "      <th>COST (£) charged to Wellcome (inc VAT when charged)</th>\n",
       "    </tr>\n",
       "  </thead>\n",
       "  <tbody>\n",
       "    <tr>\n",
       "      <th>0</th>\n",
       "      <td>NaN</td>\n",
       "      <td>CUP</td>\n",
       "      <td>Psychological Medicine</td>\n",
       "      <td>Reduced parahippocampal cortical thickness in ...</td>\n",
       "      <td>£0.00</td>\n",
       "    </tr>\n",
       "    <tr>\n",
       "      <th>1</th>\n",
       "      <td>PMC3679557</td>\n",
       "      <td>ACS</td>\n",
       "      <td>Biomacromolecules</td>\n",
       "      <td>Structural characterization of a Model Gram-ne...</td>\n",
       "      <td>£2381.04</td>\n",
       "    </tr>\n",
       "    <tr>\n",
       "      <th>2</th>\n",
       "      <td>23043264  PMC3506128</td>\n",
       "      <td>ACS</td>\n",
       "      <td>J Med Chem</td>\n",
       "      <td>Fumaroylamino-4,5-epoxymorphinans and related ...</td>\n",
       "      <td>£642.56</td>\n",
       "    </tr>\n",
       "    <tr>\n",
       "      <th>3</th>\n",
       "      <td>23438330 PMC3646402</td>\n",
       "      <td>ACS</td>\n",
       "      <td>J Med Chem</td>\n",
       "      <td>Orvinols with mixed kappa/mu opioid receptor a...</td>\n",
       "      <td>£669.64</td>\n",
       "    </tr>\n",
       "    <tr>\n",
       "      <th>4</th>\n",
       "      <td>23438216 PMC3601604</td>\n",
       "      <td>ACS</td>\n",
       "      <td>J Org Chem</td>\n",
       "      <td>Regioselective opening of myo-inositol orthoes...</td>\n",
       "      <td>£685.88</td>\n",
       "    </tr>\n",
       "  </tbody>\n",
       "</table>\n",
       "</div>"
      ],
      "text/plain": [
       "              PMID/PMCID Publisher           Journal title  \\\n",
       "0                    NaN       CUP  Psychological Medicine   \n",
       "1             PMC3679557       ACS       Biomacromolecules   \n",
       "2  23043264  PMC3506128        ACS              J Med Chem   \n",
       "3    23438330 PMC3646402       ACS              J Med Chem   \n",
       "4   23438216 PMC3601604        ACS              J Org Chem   \n",
       "\n",
       "                                       Article title  \\\n",
       "0  Reduced parahippocampal cortical thickness in ...   \n",
       "1  Structural characterization of a Model Gram-ne...   \n",
       "2  Fumaroylamino-4,5-epoxymorphinans and related ...   \n",
       "3  Orvinols with mixed kappa/mu opioid receptor a...   \n",
       "4  Regioselective opening of myo-inositol orthoes...   \n",
       "\n",
       "  COST (£) charged to Wellcome (inc VAT when charged)  \n",
       "0                                              £0.00   \n",
       "1                                           £2381.04   \n",
       "2                                            £642.56   \n",
       "3                                            £669.64   \n",
       "4                                            £685.88   "
      ]
     },
     "execution_count": 18,
     "metadata": {},
     "output_type": "execute_result"
    }
   ],
   "source": [
    "df = pd.read_csv('WELLCOME_APCspend2013_forThinkful.csv',  encoding=\"latin-1\")\n",
    "df.head()"
   ]
  },
  {
   "cell_type": "code",
   "execution_count": 24,
   "metadata": {},
   "outputs": [
    {
     "name": "stdout",
     "output_type": "stream",
     "text": [
      "<class 'pandas.core.frame.DataFrame'>\n",
      "RangeIndex: 2127 entries, 0 to 2126\n",
      "Data columns (total 5 columns):\n",
      "PMID/PMCID                                             1928 non-null object\n",
      "Publisher                                              2127 non-null object\n",
      "Journal title                                          2126 non-null object\n",
      "Article title                                          2127 non-null object\n",
      "COST (£) charged to Wellcome (inc VAT when charged)    2127 non-null object\n",
      "dtypes: object(5)\n",
      "memory usage: 83.2+ KB\n"
     ]
    }
   ],
   "source": [
    "df.info()"
   ]
  },
  {
   "cell_type": "code",
   "execution_count": 23,
   "metadata": {},
   "outputs": [
    {
     "data": {
      "text/plain": [
       "PMID/PMCID                                             199\n",
       "Publisher                                                0\n",
       "Journal title                                            1\n",
       "Article title                                            0\n",
       "COST (£) charged to Wellcome (inc VAT when charged)      0\n",
       "dtype: int64"
      ]
     },
     "execution_count": 23,
     "metadata": {},
     "output_type": "execute_result"
    }
   ],
   "source": [
    "df.isnull().sum()"
   ]
  },
  {
   "cell_type": "code",
   "execution_count": 203,
   "metadata": {},
   "outputs": [
    {
     "data": {
      "text/plain": [
       "PLoS One                                           92\n",
       "PLoS ONE                                           62\n",
       "Journal of Biological Chemistry                    48\n",
       "Nucleic Acids Research                             21\n",
       "Proceedings of the National Academy of Sciences    19\n",
       "Name: Journal title, dtype: int64"
      ]
     },
     "execution_count": 203,
     "metadata": {},
     "output_type": "execute_result"
    }
   ],
   "source": [
    "df1 = df.dropna(subset=['Journal title'])\n",
    "\n",
    "df1['Journal title'].value_counts().head(5)\n"
   ]
  },
  {
   "cell_type": "code",
   "execution_count": 246,
   "metadata": {},
   "outputs": [
    {
     "name": "stderr",
     "output_type": "stream",
     "text": [
      "C:\\ProgramData\\Anaconda3\\lib\\site-packages\\ipykernel_launcher.py:1: SettingWithCopyWarning: \n",
      "A value is trying to be set on a copy of a slice from a DataFrame.\n",
      "Try using .loc[row_indexer,col_indexer] = value instead\n",
      "\n",
      "See the caveats in the documentation: http://pandas.pydata.org/pandas-docs/stable/indexing.html#indexing-view-versus-copy\n",
      "  \"\"\"Entry point for launching an IPython kernel.\n"
     ]
    },
    {
     "data": {
      "text/html": [
       "<div>\n",
       "<style scoped>\n",
       "    .dataframe tbody tr th:only-of-type {\n",
       "        vertical-align: middle;\n",
       "    }\n",
       "\n",
       "    .dataframe tbody tr th {\n",
       "        vertical-align: top;\n",
       "    }\n",
       "\n",
       "    .dataframe thead th {\n",
       "        text-align: right;\n",
       "    }\n",
       "</style>\n",
       "<table border=\"1\" class=\"dataframe\">\n",
       "  <thead>\n",
       "    <tr style=\"text-align: right;\">\n",
       "      <th></th>\n",
       "      <th>mean</th>\n",
       "      <th>median</th>\n",
       "      <th>std</th>\n",
       "    </tr>\n",
       "    <tr>\n",
       "      <th>Journal title</th>\n",
       "      <th></th>\n",
       "      <th></th>\n",
       "      <th></th>\n",
       "    </tr>\n",
       "  </thead>\n",
       "  <tbody>\n",
       "    <tr>\n",
       "      <th>ACS Chemical Biology</th>\n",
       "      <td>1417.6</td>\n",
       "      <td>1294.0</td>\n",
       "      <td>507.153133</td>\n",
       "    </tr>\n",
       "    <tr>\n",
       "      <th>ACS Chemical Neuroscience</th>\n",
       "      <td>1186.0</td>\n",
       "      <td>1186.0</td>\n",
       "      <td>NaN</td>\n",
       "    </tr>\n",
       "    <tr>\n",
       "      <th>ACS NANO</th>\n",
       "      <td>642.0</td>\n",
       "      <td>642.0</td>\n",
       "      <td>NaN</td>\n",
       "    </tr>\n",
       "    <tr>\n",
       "      <th>ACS Nano</th>\n",
       "      <td>693.0</td>\n",
       "      <td>693.0</td>\n",
       "      <td>NaN</td>\n",
       "    </tr>\n",
       "    <tr>\n",
       "      <th>ACTA F</th>\n",
       "      <td>754.0</td>\n",
       "      <td>754.0</td>\n",
       "      <td>NaN</td>\n",
       "    </tr>\n",
       "  </tbody>\n",
       "</table>\n",
       "</div>"
      ],
      "text/plain": [
       "                             mean  median         std\n",
       "Journal title                                        \n",
       "ACS Chemical Biology       1417.6  1294.0  507.153133\n",
       "ACS Chemical Neuroscience  1186.0  1186.0         NaN\n",
       "ACS NANO                    642.0   642.0         NaN\n",
       "ACS Nano                    693.0   693.0         NaN\n",
       "ACTA F                      754.0   754.0         NaN"
      ]
     },
     "execution_count": 246,
     "metadata": {},
     "output_type": "execute_result"
    }
   ],
   "source": [
    "df1['cost'] = df1['COST (£) charged to Wellcome (inc VAT when charged)'].str.extract('(\\d+)').astype(int)\n",
    "# what about using \"str.split('£').str[1].str.split('$').str[0]\" ?????\n",
    "\n",
    "mean = df1.groupby(['Journal title'])['cost'].mean()\n",
    "median = df1.groupby(['Journal title'])['cost'].median()\n",
    "std = df1.groupby(['Journal title'])['cost'].std()\n",
    "pd.concat([mean, median, std], axis=1)\n",
    "\n",
    "statistic_data = pd.DataFrame({'mean': mean,'median':median, 'std':std})\n",
    "statistic_data.head()"
   ]
  },
  {
   "cell_type": "code",
   "execution_count": null,
   "metadata": {},
   "outputs": [],
   "source": [
    "# how the identify the open access prices paid by subject area ?????"
   ]
  },
  {
   "cell_type": "code",
   "execution_count": null,
   "metadata": {},
   "outputs": [],
   "source": []
  },
  {
   "cell_type": "code",
   "execution_count": null,
   "metadata": {},
   "outputs": [],
   "source": []
  },
  {
   "cell_type": "code",
   "execution_count": null,
   "metadata": {},
   "outputs": [],
   "source": []
  }
 ],
 "metadata": {
  "kernelspec": {
   "display_name": "Python 3",
   "language": "python",
   "name": "python3"
  },
  "language_info": {
   "codemirror_mode": {
    "name": "ipython",
    "version": 3
   },
   "file_extension": ".py",
   "mimetype": "text/x-python",
   "name": "python",
   "nbconvert_exporter": "python",
   "pygments_lexer": "ipython3",
   "version": "3.7.3"
  }
 },
 "nbformat": 4,
 "nbformat_minor": 2
}
