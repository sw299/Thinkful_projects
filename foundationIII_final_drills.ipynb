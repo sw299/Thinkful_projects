{
 "cells": [
  {
   "cell_type": "code",
   "execution_count": 81,
   "metadata": {},
   "outputs": [],
   "source": [
    "# Import the SQL ALchemy engine\n",
    "from sqlalchemy import create_engine\n",
    "\n",
    "# Database credentials\n",
    "postgres_user = 'dsbc_student'\n",
    "postgres_pw = '7*.8G9QH21'\n",
    "postgres_host = '142.93.121.174'\n",
    "postgres_port = '5432'\n",
    "postgres_db = 'baseball'\n",
    "\n",
    "# use the credentials to start a connection\n",
    "engine = create_engine('postgresql://{}:{}@{}:{}/{}'.format(\n",
    "    postgres_user, postgres_pw, postgres_host, postgres_port, postgres_db))"
   ]
  },
  {
   "cell_type": "code",
   "execution_count": 82,
   "metadata": {},
   "outputs": [
    {
     "data": {
      "image/png": "[encoded data removed]",
      "text/plain": [
       "<IPython.core.display.Image object>"
      ]
     },
     "execution_count": 82,
     "metadata": {},
     "output_type": "execute_result"
    }
   ],
   "source": [
    "# question1\n",
    "from IPython.display import Image\n",
    "Image(filename='Untitled Diagram (1).png')\n",
    "\n",
    "# what is the key different between PK and FK\n",
    "# how to tell which is parent or children\n"
   ]
  },
  {
   "cell_type": "code",
   "execution_count": 84,
   "metadata": {},
   "outputs": [
    {
     "data": {
      "text/plain": [
       "[('David', 'Aardsma', None),\n",
       " ('Hank', 'Aaron', 'Y'),\n",
       " ('Tommie', 'Aaron', None),\n",
       " ('Don', 'Aase', None),\n",
       " ('Andy', 'Abad', None),\n",
       " ('Fernando', 'Abad', None),\n",
       " ('John', 'Abadie', None),\n",
       " ('Ed', 'Abbaticchio', None),\n",
       " ('Bert', 'Abbey', None),\n",
       " ('Charlie', 'Abbey', None)]"
      ]
     },
     "execution_count": 84,
     "metadata": {},
     "output_type": "execute_result"
    }
   ],
   "source": [
    "# question2\n",
    "sql = '''\n",
    "    select namefirst, namelast, inducted\n",
    "    from people left outer join hof_inducted\n",
    "    on people.playerid = hof_inducted.playerid\n",
    "'''\n",
    "\n",
    "results = engine.execute(sql)\n",
    "rows = results.fetchall()\n",
    "rows[:10]"
   ]
  },
  {
   "cell_type": "code",
   "execution_count": 85,
   "metadata": {},
   "outputs": [
    {
     "data": {
      "text/plain": [
       "[('Ray', 'Brown', 1908, 1965, 'USA'),\n",
       " ('Willard', 'Brown', 1915, 1996, 'USA'),\n",
       " ('Andy', 'Cooper', 1898, 1941, 'USA'),\n",
       " ('Frank', 'Grant', 1865, 1937, 'USA'),\n",
       " ('Pete', 'Hill', 1882, 1951, 'USA'),\n",
       " ('Biz', 'Mackey', 1897, 1965, 'USA'),\n",
       " ('Effa', 'Manley', 1897, 1981, 'USA'),\n",
       " ('Jose', 'Mendez', 1885, 1928, 'Cuba'),\n",
       " ('Alex', 'Pompez', 1890, 1974, 'USA'),\n",
       " ('Cum', 'Posey', 1890, 1946, 'USA'),\n",
       " ('Louis', 'Santop', 1889, 1942, 'USA'),\n",
       " ('Mule', 'Suttles', 1901, 1966, 'USA'),\n",
       " ('Ben', 'Taylor', 1888, 1953, 'USA'),\n",
       " ('Cristobal', 'Torriente', 1893, 1938, 'Cuba'),\n",
       " ('Sol', 'White', 1868, 1955, 'USA'),\n",
       " ('J. L.', 'Wilkinson', 1878, 1964, 'USA'),\n",
       " ('Jud', 'Wilson', 1896, 1963, 'USA')]"
      ]
     },
     "execution_count": 85,
     "metadata": {},
     "output_type": "execute_result"
    }
   ],
   "source": [
    "# question3\n",
    "sql = '''\n",
    "    select namefirst, namelast, birthyear, deathyear, birthcountry\n",
    "    from people left outer join hof_inducted \n",
    "    on people.playerid = hof_inducted.playerid\n",
    "    where yearid=2006 \n",
    "    and votedby = 'Negro League'\n",
    "    and inducted = 'Y'\n",
    "'''\n",
    "results = engine.execute(sql)\n",
    "rows = results.fetchall()\n",
    "rows"
   ]
  },
  {
   "cell_type": "code",
   "execution_count": 22,
   "metadata": {},
   "outputs": [
    {
     "data": {
      "text/plain": [
       "[(1985, 'suttebr01', 'ATL', 1354167, 'Player'),\n",
       " (1985, 'murraed02', 'BAL', 1472819, 'Player'),\n",
       " (1985, 'ripkeca01', 'BAL', 800000, 'Player'),\n",
       " (1985, 'boggswa01', 'BOS', 1000000, 'Player'),\n",
       " (1985, 'riceji01', 'BOS', 779227, 'Player'),\n",
       " (1985, 'carewro01', 'CAL', 875000, 'Player'),\n",
       " (1985, 'jacksre01', 'CAL', 1058894, 'Player'),\n",
       " (1985, 'suttodo01', 'CAL', 750000, 'Player'),\n",
       " (1985, 'fiskca01', 'CHA', 685000, 'Player'),\n",
       " (1985, 'seaveto01', 'CHA', 1136262, 'Player')]"
      ]
     },
     "execution_count": 22,
     "metadata": {},
     "output_type": "execute_result"
    }
   ],
   "source": [
    "# question4\n",
    "sql = '''\n",
    "    select salaries.yearid, salaries.playerid, teamid, salary, category\n",
    "    from salaries join hof_inducted\n",
    "    on salaries.playerid = hof_inducted.playerid\n",
    "'''\n",
    "results = engine.execute(sql)\n",
    "rows = results.fetchall()\n",
    "rows[:10]\n",
    "\n"
   ]
  },
  {
   "cell_type": "code",
   "execution_count": 86,
   "metadata": {},
   "outputs": [
    {
     "data": {
      "text/plain": [
       "[('barkele01', 1985, 'ATL', 'NL', 870000, None),\n",
       " ('bedrost01', 1985, 'ATL', 'NL', 550000, None),\n",
       " ('benedbr01', 1985, 'ATL', 'NL', 545000, None),\n",
       " ('campri01', 1985, 'ATL', 'NL', 633333, None),\n",
       " ('ceronri01', 1985, 'ATL', 'NL', 625000, None),\n",
       " ('chambch01', 1985, 'ATL', 'NL', 800000, None),\n",
       " ('dedmoje01', 1985, 'ATL', 'NL', 150000, None),\n",
       " ('forstte01', 1985, 'ATL', 'NL', 483333, None),\n",
       " ('garbege01', 1985, 'ATL', 'NL', 772000, None),\n",
       " ('harpete01', 1985, 'ATL', 'NL', 250000, None)]"
      ]
     },
     "execution_count": 86,
     "metadata": {},
     "output_type": "execute_result"
    }
   ],
   "source": [
    "# question5\n",
    "sql='''\n",
    "    select salaries.playerid, salaries.yearid, teamid, lgid, salary, inducted\n",
    "    from salaries full outer join hof_inducted\n",
    "    on salaries.playerid = hof_inducted.playerid\n",
    "'''\n",
    "\n",
    "results = engine.execute(sql)\n",
    "rows = results.fetchall()\n",
    "rows[:10]"
   ]
  },
  {
   "cell_type": "code",
   "execution_count": 31,
   "metadata": {},
   "outputs": [
    {
     "data": {
      "text/plain": [
       "['suttebr01',\n",
       " 'murraed02',\n",
       " 'ripkeca01',\n",
       " 'boggswa01',\n",
       " 'riceji01',\n",
       " 'carewro01',\n",
       " 'jacksre01',\n",
       " 'suttodo01',\n",
       " 'fiskca01',\n",
       " 'seaveto01']"
      ]
     },
     "execution_count": 31,
     "metadata": {},
     "output_type": "execute_result"
    }
   ],
   "source": [
    "# question6\n",
    "sql = '''\n",
    "    select * from hof_inducted\n",
    "    union\n",
    "    select * from hof_not_inducted;\n",
    "'''\n",
    "results = engine.execute(sql)\n",
    "row = results.fetchall()\n",
    "playerid = [x['playerid'] for x in rows]\n",
    "playerid[:10]"
   ]
  },
  {
   "cell_type": "code",
   "execution_count": 87,
   "metadata": {},
   "outputs": [
    {
     "data": {
      "text/plain": [
       "[('David', 'Aardsma', 9259750),\n",
       " ('Don', 'Aase', 2300000),\n",
       " ('Andy', 'Abad', 327000),\n",
       " ('Fernando', 'Abad', 3766400),\n",
       " ('Jeff', 'Abbott', 985000),\n",
       " ('Jim', 'Abbott', 12960500),\n",
       " ('Kurt', 'Abbott', 4237000),\n",
       " ('Kyle', 'Abbott', 259000),\n",
       " ('Paul', 'Abbott', 6471000),\n",
       " ('Reggie', 'Abercrombie', 327000)]"
      ]
     },
     "execution_count": 87,
     "metadata": {},
     "output_type": "execute_result"
    }
   ],
   "source": [
    "# question7\n",
    "sql = '''\n",
    "    select people.namefirst, people.namelast, sum(salary)\n",
    "    from salaries left outer join people\n",
    "    on people.playerid = salaries.playerid\n",
    "    group by namelast, namefirst\n",
    "    order by namelast, namefirst\n",
    "    \n",
    "'''\n",
    "\n",
    "results = engine.execute(sql)\n",
    "rows = results.fetchall()\n",
    "rows[:10]"
   ]
  },
  {
   "cell_type": "code",
   "execution_count": 35,
   "metadata": {},
   "outputs": [
    {
     "data": {
      "text/plain": [
       "[('aaronha01', 1982, 'Hank', 'Aaron'),\n",
       " ('alexape01', 1938, 'Pete', 'Alexander'),\n",
       " ('alomaro01', 2011, 'Roberto', 'Alomar'),\n",
       " ('alstowa01', 1983, 'Walter', 'Alston'),\n",
       " ('andersp01', 2000, 'Sparky', 'Anderson'),\n",
       " ('ansonca01', 1939, 'Cap', 'Anson'),\n",
       " ('aparilu01', 1984, 'Luis', 'Aparicio'),\n",
       " ('applilu01', 1964, 'Luke', 'Appling'),\n",
       " ('ashburi01', 1995, 'Richie', 'Ashburn'),\n",
       " ('averiea01', 1975, 'Earl', 'Averill')]"
      ]
     },
     "execution_count": 35,
     "metadata": {},
     "output_type": "execute_result"
    }
   ],
   "source": [
    "# questions8\n",
    "\n",
    "sql = '''\n",
    "    SELECT hof_inducted.playerid, yearid, namefirst, namelast \n",
    "    FROM hof_inducted LEFT OUTER JOIN people\n",
    "    ON hof_inducted.playerid = people.playerid\n",
    "    \n",
    "    union all\n",
    "    \n",
    "    select hof_not_inducted.playerid, yearid, namefirst, namelast\n",
    "    from hof_not_inducted left join people\n",
    "    on hof_not_inducted.playerid = people.playerid\n",
    "'''\n",
    "results =  engine.execute(sql)\n",
    "rows = results.fetchall()\n",
    "rows[:10]\n",
    "\n"
   ]
  },
  {
   "cell_type": "code",
   "execution_count": 91,
   "metadata": {},
   "outputs": [
    {
     "data": {
      "text/plain": [
       "[(1980, 'Y', 'Al, Kaline'),\n",
       " (1980, 'Y', 'Chuck, Klein'),\n",
       " (1980, 'Y', 'Duke, Snider'),\n",
       " (1980, 'Y', 'Tom, Yawkey'),\n",
       " (1980, 'N', 'Al, Dark'),\n",
       " (1980, 'N', 'Andy, Kosco'),\n",
       " (1980, 'N', 'Bill, Mazeroski'),\n",
       " (1980, 'N', 'Bob, Barton'),\n",
       " (1980, 'N', 'Bob, Miller'),\n",
       " (1980, 'N', 'Bob, Veale')]"
      ]
     },
     "execution_count": 91,
     "metadata": {},
     "output_type": "execute_result"
    }
   ],
   "source": [
    "# question9\n",
    "sql = '''\n",
    "    select yearid, inducted, concat(namefirst, ', ', namelast) as namefull \n",
    "    from hof_inducted left join people\n",
    "    on hof_inducted.playerid = people.playerid\n",
    "    WHERE yearid >= 1980\n",
    "    \n",
    "    union all\n",
    "    \n",
    "    select yearid, inducted, concat(namefirst, ', ', namelast) as namefull\n",
    "    from hof_not_inducted left join people\n",
    "    on hof_not_inducted.playerid = people.playerid\n",
    "    WHERE yearid >= 1980\n",
    "    \n",
    "    order by yearid, inducted DESC, namefull\n",
    "'''\n",
    "\n",
    "results =  engine.execute(sql)\n",
    "rows = results.fetchall()\n",
    "rows[:10]\n"
   ]
  },
  {
   "cell_type": "code",
   "execution_count": null,
   "metadata": {},
   "outputs": [],
   "source": [
    "\n"
   ]
  },
  {
   "cell_type": "code",
   "execution_count": 48,
   "metadata": {},
   "outputs": [
    {
     "data": {
      "text/plain": [
       "[(2010, 'NYA', 'rodrial01', 'Alex', 'Rodriguez', 33000000),\n",
       " (2016, 'LAN', 'kershcl01', 'Clayton', 'Kershaw', 33000000),\n",
       " (2009, 'NYA', 'rodrial01', 'Alex', 'Rodriguez', 33000000),\n",
       " (2015, 'LAN', 'kershcl01', 'Clayton', 'Kershaw', 32571000),\n",
       " (2011, 'NYA', 'rodrial01', 'Alex', 'Rodriguez', 32000000),\n",
       " (2016, 'ARI', 'greinza01', 'Zack', 'Greinke', 31799030),\n",
       " (2012, 'NYA', 'rodrial01', 'Alex', 'Rodriguez', 30000000),\n",
       " (2016, 'BOS', 'priceda01', 'David', 'Price', 30000000),\n",
       " (2013, 'NYA', 'rodrial01', 'Alex', 'Rodriguez', 29000000),\n",
       " (2016, 'DET', 'verlaju01', 'Justin', 'Verlander', 28000000)]"
      ]
     },
     "execution_count": 48,
     "metadata": {},
     "output_type": "execute_result"
    }
   ],
   "source": [
    "#question10\n",
    "sql = '''\n",
    "    select yearid, teamid, salaries.playerid, namefirst, namelast, salary\n",
    "    from salaries left join people\n",
    "    on salaries.playerid = people.playerid\n",
    "    \n",
    "    where salary in (select max(salary) from salaries\n",
    "                    group by yearid, teamid)\n",
    "    \n",
    "    order by salary desc \n",
    "'''\n",
    "results =  engine.execute(sql)\n",
    "rows = results.fetchall()\n",
    "rows[:10]"
   ]
  },
  {
   "cell_type": "code",
   "execution_count": 92,
   "metadata": {},
   "outputs": [
    {
     "data": {
      "text/plain": [
       "[(1896, 1978, 'Mike', 'Wilson'),\n",
       " (1896, 1983, 'Chick', 'Sorrells'),\n",
       " (1896, 1963, 'Merito', 'Acosta'),\n",
       " (1896, 1962, 'Mutt', 'Wilson'),\n",
       " (1896, 1950, 'Dick', 'McCabe'),\n",
       " (1896, 1969, 'Roy', 'Wilson'),\n",
       " (1896, 1969, 'Ray', 'Schmandt'),\n",
       " (1896, 1972, 'Rip', 'Conway'),\n",
       " (1896, 1968, 'Bill', 'Sherdel'),\n",
       " (1896, 1971, 'Sam', 'Post')]"
      ]
     },
     "execution_count": 92,
     "metadata": {},
     "output_type": "execute_result"
    }
   ],
   "source": [
    "# question11\n",
    "sql= '''\n",
    "    select birthyear, deathyear, namefirst, namelast\n",
    "    from people\n",
    "    where birthyear > any(select birthyear from people \n",
    "                        where playerid = 'ruthba01')\n",
    "    order by birthyear asc\n",
    "'''\n",
    "results =  engine.execute(sql)\n",
    "rows = results.fetchall()\n",
    "rows[:10]\n"
   ]
  },
  {
   "cell_type": "code",
   "execution_count": 63,
   "metadata": {},
   "outputs": [
    {
     "data": {
      "text/plain": [
       "[('Brayan', 'Pena', 'non-USA'),\n",
       " ('Carlos', 'Pena', 'non-USA'),\n",
       " ('Elvis', 'Pena', 'non-USA'),\n",
       " ('Felix', 'Pena', 'non-USA'),\n",
       " ('Francisco', 'Pena', 'non-USA'),\n",
       " ('Geronimo', 'Pena', 'non-USA'),\n",
       " ('Hipolito', 'Pena', 'non-USA'),\n",
       " ('Jesus', 'Pena', 'non-USA'),\n",
       " ('Michael', 'Campbell', 'non-USA'),\n",
       " ('Jose', 'Pena', 'non-USA')]"
      ]
     },
     "execution_count": 63,
     "metadata": {},
     "output_type": "execute_result"
    }
   ],
   "source": [
    "# question12\n",
    "sql = '''\n",
    "    select namefirst, namelast,\n",
    "        case\n",
    "            when birthcountry = 'USA' then 'USA'\n",
    "            when birthcountry != 'USA' then 'non-USA'\n",
    "        end as usaborn\n",
    "    from people\n",
    "    order by 3\n",
    "'''\n",
    "results =  engine.execute(sql)\n",
    "rows = results.fetchall()\n",
    "rows[:10]\n"
   ]
  },
  {
   "cell_type": "code",
   "execution_count": 67,
   "metadata": {},
   "outputs": [
    {
     "data": {
      "text/plain": [
       "[(Decimal('72.3172024506092104'), Decimal('72.5530219780219780'))]"
      ]
     },
     "execution_count": 67,
     "metadata": {},
     "output_type": "execute_result"
    }
   ],
   "source": [
    "# question13\n",
    "sql = '''\n",
    "    select\n",
    "        avg(case when throws = 'R' then height end) as right_hight,\n",
    "        avg(case when throws = 'L' then height end)as left_hight\n",
    "    from people\n",
    "'''\n",
    "results =  engine.execute(sql)\n",
    "rows = results.fetchall()\n",
    "rows[:10]\n",
    "\n",
    "\n"
   ]
  },
  {
   "cell_type": "code",
   "execution_count": 75,
   "metadata": {},
   "outputs": [
    {
     "data": {
      "text/plain": [
       "[(Decimal('15927004.096952908587'),)]"
      ]
     },
     "execution_count": 75,
     "metadata": {},
     "output_type": "execute_result"
    }
   ],
   "source": [
    "# question14_1\n",
    "sql = '''\n",
    "    select avg(salary)\n",
    "    from salaries\n",
    "    where salary in (select max(salary) from salaries \n",
    "                    where yearid>2010 \n",
    "                    group by teamid)\n",
    "'''\n",
    "results =  engine.execute(sql)\n",
    "rows = results.fetchall()\n",
    "rows"
   ]
  },
  {
   "cell_type": "code",
   "execution_count": 76,
   "metadata": {},
   "outputs": [
    {
     "data": {
      "text/plain": [
       "[(Decimal('21746725.129032258065'),)]"
      ]
     },
     "execution_count": 76,
     "metadata": {},
     "output_type": "execute_result"
    }
   ],
   "source": [
    "# question14_2\n",
    "sql = '''WITH max_team_sal AS\n",
    "(\n",
    "SELECT teamid, MAX(salary) as max_sal\n",
    "FROM salaries\n",
    "WHERE yearid > 2010\n",
    "GROUP BY teamid\n",
    ")\n",
    "SELECT AVG(max_sal) AS avg_max_sal\n",
    "FROM max_team_sal;'''\n",
    "\n",
    "results =  engine.execute(sql)\n",
    "rows = results.fetchall()\n",
    "rows"
   ]
  },
  {
   "cell_type": "code",
   "execution_count": null,
   "metadata": {},
   "outputs": [],
   "source": [
    "# why question14 give different result with two methods"
   ]
  },
  {
   "cell_type": "code",
   "execution_count": null,
   "metadata": {},
   "outputs": [],
   "source": []
  }
 ],
 "metadata": {
  "kernelspec": {
   "display_name": "Python 3",
   "language": "python",
   "name": "python3"
  },
  "language_info": {
   "codemirror_mode": {
    "name": "ipython",
    "version": 3
   },
   "file_extension": ".py",
   "mimetype": "text/x-python",
   "name": "python",
   "nbconvert_exporter": "python",
   "pygments_lexer": "ipython3",
   "version": "3.7.3"
  }
 },
 "nbformat": 4,
 "nbformat_minor": 2
}
