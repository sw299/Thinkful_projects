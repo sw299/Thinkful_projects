{
 "cells": [
  {
   "cell_type": "code",
   "execution_count": 155,
   "metadata": {},
   "outputs": [],
   "source": [
    "import numpy as np"
   ]
  },
  {
   "cell_type": "code",
   "execution_count": 1,
   "metadata": {},
   "outputs": [
    {
     "name": "stdout",
     "output_type": "stream",
     "text": [
      "Requirement already satisfied: sqlalchemy in c:\\programdata\\anaconda3\\lib\\site-packages (1.3.5)\n",
      "Collecting psycopg2\n",
      "  Downloading https://files.pythonhosted.org/packages/3b/b4/b6db75663e1c73bb6190cbcbb02f94a36c574b813a353446087cbdf43712/psycopg2-2.8.3-cp37-cp37m-win_amd64.whl (1.1MB)\n",
      "Installing collected packages: psycopg2\n",
      "Successfully installed psycopg2-2.8.3\n"
     ]
    }
   ],
   "source": [
    "!pip install sqlalchemy\n",
    "!pip install psycopg2"
   ]
  },
  {
   "cell_type": "code",
   "execution_count": 32,
   "metadata": {},
   "outputs": [],
   "source": [
    "# Import the SQL ALchemy engine\n",
    "from sqlalchemy import create_engine\n",
    "\n",
    "# Database credentials\n",
    "postgres_user = 'dsbc_student'\n",
    "postgres_pw = '7*.8G9QH21'\n",
    "postgres_host = '142.93.121.174'\n",
    "postgres_port = '5432'\n",
    "postgres_db = 'dvdrentals'\n",
    "\n",
    "# use the credentials to start a connection\n",
    "engine = create_engine('postgresql://{}:{}@{}:{}/{}'.format(\n",
    "    postgres_user, postgres_pw, postgres_host, postgres_port, postgres_db))"
   ]
  },
  {
   "cell_type": "code",
   "execution_count": 140,
   "metadata": {},
   "outputs": [
    {
     "name": "stdout",
     "output_type": "stream",
     "text": [
      "[('R', 195), ('NC-17', 210), ('PG', 194), ('PG-13', 223), ('G', 178)]\n"
     ]
    }
   ],
   "source": [
    "#question1\n",
    "sql = '''\n",
    "    select rating, count(film_id) as num\n",
    "    from film\n",
    "    group by rating\n",
    "'''\n",
    "\n",
    "results = engine.execute(sql)\n",
    "engine.dispose()\n",
    "rows = results.fetchall()\n",
    "list_rating = [x for x in rows]\n",
    "print(list_rating)"
   ]
  },
  {
   "cell_type": "code",
   "execution_count": 149,
   "metadata": {},
   "outputs": [
    {
     "name": "stdout",
     "output_type": "stream",
     "text": [
      "[Decimal('2.94'), Decimal('2.97'), Decimal('3.05'), Decimal('3.03'), Decimal('2.89')]\n"
     ]
    }
   ],
   "source": [
    "#question2\n",
    "sql = '''\n",
    "    select rating, count(film_id) as num, round(avg(rental_rate),2) as avg_rental\n",
    "    from film\n",
    "    group by rating\n",
    "'''\n",
    "results = engine.execute(sql)\n",
    "engine.dispose()\n",
    "rows = results.fetchall()\n",
    "list_rental = [x['avg_rental'] for x in rows]\n",
    "print(list_rental)\n"
   ]
  },
  {
   "cell_type": "code",
   "execution_count": 162,
   "metadata": {},
   "outputs": [
    {
     "data": {
      "text/plain": [
       "115.272"
      ]
     },
     "execution_count": 162,
     "metadata": {},
     "output_type": "execute_result"
    }
   ],
   "source": [
    "#question3\n",
    "sql = '''\n",
    "    select length\n",
    "    from film\n",
    "'''\n",
    "results = engine.execute(sql)\n",
    "engine.dispose()\n",
    "rows = results.fetchall()\n",
    "list_length = [x['length'] for x in rows]\n",
    "\n",
    "def avg(list_num):\n",
    "    mean_length = sum(list_num)/len(list_num)\n",
    "    return mean_length\n",
    "\n",
    "avg(list_length)"
   ]
  },
  {
   "cell_type": "code",
   "execution_count": 195,
   "metadata": {},
   "outputs": [
    {
     "data": {
      "text/plain": [
       "114.0"
      ]
     },
     "execution_count": 195,
     "metadata": {},
     "output_type": "execute_result"
    }
   ],
   "source": [
    "#question4\n",
    "def median_length(list_num):\n",
    "    list_num.sort()\n",
    "    length = len(list_num)\n",
    "    if length%2 == 0:\n",
    "        return (list_num[int(length/2)]+list_num[int(length/2)+1])/2\n",
    "    else:\n",
    "        return list_num[int(length/2)+1]\n",
    "    \n",
    "median_length(list_length)"
   ]
  },
  {
   "cell_type": "code",
   "execution_count": 207,
   "metadata": {},
   "outputs": [
    {
     "data": {
      "text/plain": [
       "40.42633181855988"
      ]
     },
     "execution_count": 207,
     "metadata": {},
     "output_type": "execute_result"
    }
   ],
   "source": [
    "#question5\n",
    "def std_dev(list_num):\n",
    "    square_sum = 0\n",
    "    length = int(len(list_num))\n",
    "    x_bar = avg(list_num)\n",
    "    square_list = [(x-x_bar)**2 for x in list_num]\n",
    "    for s in square_list:\n",
    "        square_sum += s\n",
    "    std_de = (square_sum/(length-1))**0.5\n",
    "    return std_de\n",
    "\n",
    "std_dev(list_length)\n",
    "    "
   ]
  },
  {
   "cell_type": "code",
   "execution_count": null,
   "metadata": {},
   "outputs": [],
   "source": []
  },
  {
   "cell_type": "code",
   "execution_count": null,
   "metadata": {},
   "outputs": [],
   "source": []
  }
 ],
 "metadata": {
  "kernelspec": {
   "display_name": "Python 3",
   "language": "python",
   "name": "python3"
  },
  "language_info": {
   "codemirror_mode": {
    "name": "ipython",
    "version": 3
   },
   "file_extension": ".py",
   "mimetype": "text/x-python",
   "name": "python",
   "nbconvert_exporter": "python",
   "pygments_lexer": "ipython3",
   "version": "3.7.3"
  }
 },
 "nbformat": 4,
 "nbformat_minor": 2
}
