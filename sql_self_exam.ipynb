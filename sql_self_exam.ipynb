{
 "cells": [
  {
   "cell_type": "code",
   "execution_count": 1,
   "metadata": {},
   "outputs": [],
   "source": [
    "# Import the SQL ALchemy engine\n",
    "from sqlalchemy import create_engine\n",
    "\n",
    "# Database credentials\n",
    "postgres_user = 'dsbc_student'\n",
    "postgres_pw = '7*.8G9QH21'\n",
    "postgres_host = '142.93.121.174'\n",
    "postgres_port = '5432'\n",
    "postgres_db = 'department_of_education'\n",
    "\n",
    "# use the credentials to start a connection\n",
    "engine = create_engine('postgresql://{}:{}@{}:{}/{}'.format(\n",
    "    postgres_user, postgres_pw, postgres_host, postgres_port, postgres_db))"
   ]
  },
  {
   "cell_type": "code",
   "execution_count": 53,
   "metadata": {},
   "outputs": [
    {
     "data": {
      "text/plain": [
       "[('avg_math_4_score', 'numeric'),\n",
       " ('avg_math_8_score', 'numeric'),\n",
       " ('avg_reading_4_score', 'numeric'),\n",
       " ('avg_reading_8_score', 'numeric'),\n",
       " ('id', 'character varying'),\n",
       " ('state', 'character varying'),\n",
       " ('year', 'integer')]"
      ]
     },
     "execution_count": 53,
     "metadata": {},
     "output_type": "execute_result"
    }
   ],
   "source": [
    "# quesiton1\n",
    "sql = '''\n",
    "    SELECT column_name, data_type\n",
    "    FROM information_schema.columns\n",
    "    WHERE table_name = 'naep'\n",
    "'''\n",
    "results = engine.execute(sql)\n",
    "rows = results.fetchall()\n",
    "rows"
   ]
  },
  {
   "cell_type": "code",
   "execution_count": 54,
   "metadata": {},
   "outputs": [
    {
     "data": {
      "text/plain": [
       "[(Decimal('232.171'), Decimal('268.312'), Decimal('216.42'), Decimal('257.687'), '2017_ALABAMA', 'ALABAMA', 2017),\n",
       " (Decimal('230.456'), Decimal('277.016'), Decimal('207.038'), Decimal('257.668'), '2017_ALASKA', 'ALASKA', 2017),\n",
       " (Decimal('234.436'), Decimal('282.248'), Decimal('215.466'), Decimal('262.957'), '2017_ARIZONA', 'ARIZONA', 2017),\n",
       " (Decimal('233.848'), Decimal('273.76'), Decimal('216.108'), Decimal('259.956'), '2017_ARKANSAS', 'ARKANSAS', 2017),\n",
       " (Decimal('232.263'), Decimal('276.638'), Decimal('215.422'), Decimal('262.521'), '2017_CALIFORNIA', 'CALIFORNIA', 2017),\n",
       " (Decimal('240.695'), Decimal('286.248'), Decimal('224.692'), Decimal('270.339'), '2017_COLORADO', 'COLORADO', 2017),\n",
       " (Decimal('239.238'), Decimal('284.144'), Decimal('228.355'), Decimal('272.538'), '2017_CONNECTICUT', 'CONNECTICUT', 2017),\n",
       " (Decimal('236.128'), Decimal('278.023'), Decimal('221.482'), Decimal('263.089'), '2017_DELAWARE', 'DELAWARE', 2017),\n",
       " (Decimal('231.32'), Decimal('265.78'), Decimal('213.382'), Decimal('246.788'), '2017_DISTRICT_OF_COLUMBIA', 'DISTRICT_OF_COLUMBIA', 2017),\n",
       " (Decimal('246.368'), Decimal('279.12'), Decimal('228.273'), Decimal('280.499'), '2017_FLORIDA', 'FLORIDA', 2017),\n",
       " (Decimal('236.384'), Decimal('281.035'), Decimal('219.683'), Decimal('266.553'), '2017_GEORGIA', 'GEORGIA', 2017),\n",
       " (Decimal('237.92'), Decimal('277.337'), Decimal('216.365'), Decimal('266.33'), '2017_HAWAII', 'HAWAII', 2017),\n",
       " (Decimal('239.968'), Decimal('284.372'), Decimal('222.791'), Decimal('260.982'), '2017_IDAHO', 'IDAHO', 2017),\n",
       " (Decimal('238.119'), Decimal('281.618'), Decimal('220.366'), Decimal('269.673'), '2017_ILLINOIS', 'ILLINOIS', 2017),\n",
       " (Decimal('246.514'), Decimal('287.706'), Decimal('226.418'), Decimal('266.929'), '2017_INDIANA', 'INDIANA', 2017),\n",
       " (Decimal('243.107'), Decimal('286.239'), Decimal('221.747'), Decimal('272.024'), '2017_IOWA', 'IOWA', 2017),\n",
       " (Decimal('241.213'), Decimal('285.284'), Decimal('223.268'), Decimal('267.676'), '2017_KANSAS', 'KANSAS', 2017),\n",
       " (Decimal('239.178'), Decimal('277.714'), Decimal('224.081'), Decimal('267.49'), '2017_KENTUCKY', 'KENTUCKY', 2017),\n",
       " (Decimal('228.972'), Decimal('266.507'), Decimal('211.601'), Decimal('265.133'), '2017_LOUISIANA', 'LOUISIANA', 2017),\n",
       " (Decimal('239.899'), Decimal('284.003'), Decimal('221.389'), Decimal('256.751'), '2017_MAINE', 'MAINE', 2017),\n",
       " (Decimal('240.601'), Decimal('280.91'), Decimal('225.049'), Decimal('268.931'), '2017_MARYLAND', 'MARYLAND', 2017),\n",
       " (Decimal('249.103'), Decimal('297.042'), Decimal('235.7'), Decimal('267.251'), '2017_MASSACHUSETTS', 'MASSACHUSETTS', 2017),\n",
       " (Decimal('235.555'), Decimal('279.505'), Decimal('217.753'), Decimal('277.783'), '2017_MICHIGAN', 'MICHIGAN', 2017),\n",
       " (Decimal('248.804'), Decimal('293.962'), Decimal('224.539'), Decimal('265.469'), '2017_MINNESOTA', 'MINNESOTA', 2017),\n",
       " (Decimal('234.694'), Decimal('270.915'), Decimal('215.203'), Decimal('268.617'), '2017_MISSISSIPPI', 'MISSISSIPPI', 2017),\n",
       " (Decimal('239.502'), Decimal('280.596'), Decimal('222.681'), Decimal('256.345'), '2017_MISSOURI', 'MISSOURI', 2017),\n",
       " (Decimal('240.722'), Decimal('285.6'), Decimal('222.327'), Decimal('266.035'), '2017_MONTANA', 'MONTANA', 2017),\n",
       " (Decimal('245.591'), Decimal('288.406'), Decimal('224.096'), Decimal('267.208'), '2017_NEBRASKA', 'NEBRASKA', 2017),\n",
       " (Decimal('231.685'), Decimal('275.365'), Decimal('214.842'), Decimal('268.529'), '2017_NEVADA', 'NEVADA', 2017),\n",
       " (Decimal('245.32'), Decimal('293.291'), Decimal('228.901'), Decimal('259.806'), '2017_NEW_HAMPSHIRE', 'NEW_HAMPSHIRE', 2017),\n",
       " (Decimal('247.855'), Decimal('291.699'), Decimal('232.943'), Decimal('274.786'), '2017_NEW_JERSEY', 'NEW_JERSEY', 2017),\n",
       " (Decimal('229.704'), Decimal('269.374'), Decimal('207.704'), Decimal('275.045'), '2017_NEW_MEXICO', 'NEW_MEXICO', 2017),\n",
       " (Decimal('235.548'), Decimal('281.688'), Decimal('221.884'), Decimal('255.579'), '2017_NEW_YORK', 'NEW_YORK', 2017),\n",
       " (Decimal('240.951'), Decimal('281.926'), Decimal('223.931'), Decimal('264.158'), '2017_NORTH_CAROLINA', 'NORTH_CAROLINA', 2017),\n",
       " (Decimal('244.244'), Decimal('288.172'), Decimal('221.519'), Decimal('262.72'), '2017_NORTH_DAKOTA', 'NORTH_DAKOTA', 2017),\n",
       " (Decimal('240.928'), Decimal('287.714'), Decimal('225.261'), Decimal('265.082'), '2017_OHIO', 'OHIO', 2017),\n",
       " (Decimal('237.326'), Decimal('274.689'), Decimal('216.588'), Decimal('268.451'), '2017_OKLAHOMA', 'OKLAHOMA', 2017),\n",
       " (Decimal('233.132'), Decimal('282.173'), Decimal('217.531'), Decimal('261.237'), '2017_OREGON', 'OREGON', 2017),\n",
       " (Decimal('241.672'), Decimal('286.394'), Decimal('224.925'), Decimal('266.217'), '2017_PENNSYLVANIA', 'PENNSYLVANIA', 2017),\n",
       " (Decimal('237.555'), Decimal('277.18'), Decimal('223.353'), Decimal('269.554'), '2017_RHODE_ISLAND', 'RHODE_ISLAND', 2017),\n",
       " (Decimal('234.044'), Decimal('274.674'), Decimal('213.128'), Decimal('265.768'), '2017_SOUTH_CAROLINA', 'SOUTH_CAROLINA', 2017),\n",
       " (Decimal('241.589'), Decimal('286.376'), Decimal('221.75'), Decimal('259.753'), '2017_SOUTH_DAKOTA', 'SOUTH_DAKOTA', 2017),\n",
       " (Decimal('236.693'), Decimal('278.778'), Decimal('218.953'), Decimal('267.356'), '2017_TENNESSEE', 'TENNESSEE', 2017),\n",
       " (Decimal('240.944'), Decimal('282.32'), Decimal('214.878'), Decimal('262.047'), '2017_TEXAS', 'TEXAS', 2017),\n",
       " (Decimal('242.481'), Decimal('286.817'), Decimal('225.159'), Decimal('260.343'), '2017_UTAH', 'UTAH', 2017),\n",
       " (Decimal('240.893'), Decimal('287.623'), Decimal('226.445'), Decimal('268.752'), '2017_VERMONT', 'VERMONT', 2017),\n",
       " (Decimal('248.041'), Decimal('290.081'), Decimal('227.598'), Decimal('273.403'), '2017_VIRGINIA', 'VIRGINIA', 2017),\n",
       " (Decimal('241.701'), Decimal('289.131'), Decimal('223.123'), Decimal('267.745'), '2017_WASHINGTON', 'WASHINGTON', 2017),\n",
       " (Decimal('236.057'), Decimal('273.416'), Decimal('217.316'), Decimal('271.617'), '2017_WEST_VIRGINIA', 'WEST_VIRGINIA', 2017),\n",
       " (Decimal('240.389'), Decimal('288.143'), Decimal('219.613'), Decimal('258.7'), '2017_WISCONSIN', 'WISCONSIN', 2017)]"
      ]
     },
     "execution_count": 54,
     "metadata": {},
     "output_type": "execute_result"
    }
   ],
   "source": [
    "# question2\n",
    "sql = '''\n",
    "    SELECT * \n",
    "    FROM naep\n",
    "    limit 50\n",
    "'''\n",
    "results = engine.execute(sql)\n",
    "rows = results.fetchall()\n",
    "rows"
   ]
  },
  {
   "cell_type": "code",
   "execution_count": 55,
   "metadata": {},
   "outputs": [
    {
     "data": {
      "text/plain": [
       "[(11, Decimal('224.5554545454545455'), Decimal('208.328'), Decimal('232.861')),\n",
       " (9, Decimal('234.0097777777777778'), Decimal('223.833'), Decimal('237.274')),\n",
       " (11, Decimal('229.0680000000000000'), Decimal('215.254'), Decimal('240.305')),\n",
       " (11, Decimal('229.9675454545454545'), Decimal('210.206'), Decimal('239.891')),\n",
       " (11, Decimal('225.6595454545454545'), Decimal('208.399'), Decimal('234.165')),\n",
       " (10, Decimal('237.8267000000000000'), Decimal('221.023'), Decimal('246.976')),\n",
       " (11, Decimal('238.9570909090909091'), Decimal('226.798'), Decimal('244.718')),\n",
       " (10, Decimal('234.8061000000000000'), Decimal('215.025'), Decimal('243.108')),\n",
       " (11, Decimal('212.2754545454545455'), Decimal('187.135'), Decimal('231.32')),\n",
       " (10, Decimal('235.6613000000000000'), Decimal('213.69'), Decimal('246.368')),\n",
       " (11, Decimal('230.6353636363636364'), Decimal('215.456'), Decimal('240.047')),\n",
       " (11, Decimal('229.9740909090909091'), Decimal('214.057'), Decimal('243.309')),\n",
       " (10, Decimal('236.6816000000000000'), Decimal('221.563'), Decimal('241.65')),\n",
       " (9, Decimal('235.5212222222222222'), Decimal('224.93'), Decimal('239')),\n",
       " (11, Decimal('239.7500909090909091'), Decimal('221.038'), Decimal('248.597')),\n",
       " (11, Decimal('239.1388181818181818'), Decimal('229.126'), Decimal('245.794')),\n",
       " (9, Decimal('243.0484444444444444'), Decimal('231.953'), Decimal('247.924')),\n",
       " (11, Decimal('232.1253636363636364'), Decimal('215.048'), Decimal('241.728')),\n",
       " (11, Decimal('224.7707272727272727'), Decimal('204.14'), Decimal('234.282')),\n",
       " (11, Decimal('239.2542727272727273'), Decimal('230.569'), Decimal('245.847')),\n",
       " (11, Decimal('235.3022727272727273'), Decimal('217.318'), Decimal('247.107')),\n",
       " (11, Decimal('244.5736363636363636'), Decimal('226.598'), Decimal('253.396')),\n",
       " (11, Decimal('233.5280000000000000'), Decimal('219.878'), Decimal('237.706')),\n",
       " (11, Decimal('243.7325454545454545'), Decimal('228.494'), Decimal('253.421')),\n",
       " (11, Decimal('223.2370000000000000'), Decimal('201.828'), Decimal('234.694')),\n",
       " (11, Decimal('234.9072727272727273'), Decimal('222.216'), Decimal('240.684')),\n",
       " (10, Decimal('239.1183000000000000'), Decimal('227.516'), Decimal('244.401')),\n",
       " (11, Decimal('236.5442727272727273'), Decimal('225.333'), Decimal('245.591')),\n",
       " (10, Decimal('230.1025000000000000'), Decimal('217.623'), Decimal('237.032')),\n",
       " (9, Decimal('246.3654444444444444'), Decimal('229.665'), Decimal('252.994')),\n",
       " (10, Decimal('242.0409000000000000'), Decimal('227.148'), Decimal('248.622')),\n",
       " (11, Decimal('224.7401818181818182'), Decimal('213.299'), Decimal('232.84')),\n",
       " (11, Decimal('234.1038181818181818'), Decimal('218.446'), Decimal('242.543')),\n",
       " (11, Decimal('237.4870000000000000'), Decimal('212.884'), Decimal('244.802')),\n",
       " (11, Decimal('240.1744545454545455'), Decimal('228.663'), Decimal('246.425')),\n",
       " (10, Decimal('239.1511000000000000'), Decimal('218.712'), Decimal('245.55')),\n",
       " (10, Decimal('233.5434000000000000'), Decimal('220.32'), Decimal('239.76')),\n",
       " (10, Decimal('234.6700000000000000'), Decimal('223.476'), Decimal('240.099')),\n",
       " (10, Decimal('238.9279000000000000'), Decimal('224.306'), Decimal('245.655')),\n",
       " (11, Decimal('232.4981818181818182'), Decimal('215.449'), Decimal('241.625')),\n",
       " (11, Decimal('230.7310909090909091'), Decimal('212.497'), Decimal('238.303')),\n",
       " (8, Decimal('240.6803750000000000'), Decimal('237.265'), Decimal('242.098')),\n",
       " (11, Decimal('229.4561818181818182'), Decimal('210.948'), Decimal('240.667')),\n",
       " (11, Decimal('237.2158181818181818'), Decimal('217.919'), Decimal('244.002')),\n",
       " (11, Decimal('236.5052727272727273'), Decimal('224.042'), Decimal('242.821')),\n",
       " (10, Decimal('241.4744000000000000'), Decimal('224.881'), Decimal('247.803')),\n",
       " (11, Decimal('238.7508181818181818'), Decimal('220.763'), Decimal('248.041')),\n",
       " (9, Decimal('240.6647777777777778'), Decimal('225.053'), Decimal('246.288')),\n",
       " (11, Decimal('230.7052727272727273'), Decimal('215.269'), Decimal('237.441')),\n",
       " (10, Decimal('239.8291000000000000'), Decimal('228.692'), Decimal('244.706')),\n",
       " (11, Decimal('239.3382727272727273'), Decimal('223.196'), Decimal('247.821'))]"
      ]
     },
     "execution_count": 55,
     "metadata": {},
     "output_type": "execute_result"
    }
   ],
   "source": [
    "# question3\n",
    "sql = '''\n",
    "    SELECT COUNT(avg_math_4_score), AVG(avg_math_4_score), MIN(avg_math_4_score), MAX(avg_math_4_score)\n",
    "    FROM naep\n",
    "    GROUP BY state\n",
    "    ORDER BY state ASC\n",
    "'''\n",
    "results = engine.execute(sql)\n",
    "rows = results.fetchall()\n",
    "rows"
   ]
  },
  {
   "cell_type": "code",
   "execution_count": 56,
   "metadata": {},
   "outputs": [
    {
     "data": {
      "text/plain": [
       "[(11, Decimal('212.2754545454545455'), Decimal('187.135'), Decimal('231.32')),\n",
       " (10, Decimal('235.6613000000000000'), Decimal('213.69'), Decimal('246.368')),\n",
       " (11, Decimal('224.7707272727272727'), Decimal('204.14'), Decimal('234.282')),\n",
       " (11, Decimal('223.2370000000000000'), Decimal('201.828'), Decimal('234.694')),\n",
       " (11, Decimal('237.4870000000000000'), Decimal('212.884'), Decimal('244.802'))]"
      ]
     },
     "execution_count": 56,
     "metadata": {},
     "output_type": "execute_result"
    }
   ],
   "source": [
    "# question4\n",
    "sql = '''\n",
    "    SELECT COUNT(avg_math_4_score), AVG(avg_math_4_score), MIN(avg_math_4_score), MAX(avg_math_4_score)\n",
    "    FROM naep\n",
    "    GROUP BY state\n",
    "    HAVING MAX(avg_math_4_score) - MIN(avg_math_4_score) > 30\n",
    "    ORDER BY state ASC\n",
    "'''\n",
    "results = engine.execute(sql)\n",
    "rows = results.fetchall()\n",
    "rows"
   ]
  },
  {
   "cell_type": "code",
   "execution_count": 28,
   "metadata": {},
   "outputs": [
    {
     "data": {
      "text/plain": [
       "[('DISTRICT_OF_COLUMBIA',),\n",
       " ('MISSISSIPPI',),\n",
       " ('CALIFORNIA',),\n",
       " ('NEW_MEXICO',),\n",
       " ('HAWAII',),\n",
       " ('ARKANSAS',),\n",
       " ('ALABAMA',),\n",
       " ('LOUISIANA',),\n",
       " ('ARIZONA',),\n",
       " ('GEORGIA',)]"
      ]
     },
     "execution_count": 28,
     "metadata": {},
     "output_type": "execute_result"
    }
   ],
   "source": [
    "# question5\n",
    "sql = '''\n",
    "    SELECT state AS bottom_10_sates\n",
    "    FROM naep\n",
    "    WHERE year = 2000\n",
    "    ORDER BY avg_math_4_score ASC\n",
    "    limit 10\n",
    "'''\n",
    "results = engine.execute(sql)\n",
    "rows = results.fetchall()\n",
    "rows\n"
   ]
  },
  {
   "cell_type": "code",
   "execution_count": 26,
   "metadata": {},
   "outputs": [
    {
     "data": {
      "text/plain": [
       "[(Decimal('224.80'),)]"
      ]
     },
     "execution_count": 26,
     "metadata": {},
     "output_type": "execute_result"
    }
   ],
   "source": [
    "# question6\n",
    "sql = '''\n",
    "    SELECT ROUND(AVG(avg_math_4_score), 2)\n",
    "    FROM naep\n",
    "    WHERE year = 2000\n",
    "'''\n",
    "results = engine.execute(sql)\n",
    "rows = results.fetchall()\n",
    "rows"
   ]
  },
  {
   "cell_type": "code",
   "execution_count": 27,
   "metadata": {},
   "outputs": [
    {
     "data": {
      "text/plain": [
       "[('ALABAMA',),\n",
       " ('ARIZONA',),\n",
       " ('ARKANSAS',),\n",
       " ('CALIFORNIA',),\n",
       " ('DISTRICT_OF_COLUMBIA',),\n",
       " ('GEORGIA',),\n",
       " ('HAWAII',),\n",
       " ('KENTUCKY',),\n",
       " ('LOUISIANA',),\n",
       " ('MARYLAND',),\n",
       " ('MISSISSIPPI',),\n",
       " ('NEVADA',),\n",
       " ('NEW_MEXICO',),\n",
       " ('RHODE_ISLAND',),\n",
       " ('SOUTH_CAROLINA',),\n",
       " ('TENNESSEE',)]"
      ]
     },
     "execution_count": 27,
     "metadata": {},
     "output_type": "execute_result"
    }
   ],
   "source": [
    "# question7\n",
    "sql = '''\n",
    "    SELECT state AS below_average_states_y2000\n",
    "    FROM naep\n",
    "    WHERE year = 2000\n",
    "    AND avg_math_4_score < (SELECT AVG(avg_math_4_score)\n",
    "                            FROM naep\n",
    "                            WHERE year = 2000)\n",
    "'''\n",
    "results = engine.execute(sql)\n",
    "rows = results.fetchall()\n",
    "rows\n"
   ]
  },
  {
   "cell_type": "code",
   "execution_count": 33,
   "metadata": {},
   "outputs": [
    {
     "data": {
      "text/plain": [
       "[('ALASKA',),\n",
       " ('COLORADO',),\n",
       " ('DELAWARE',),\n",
       " ('FLORIDA',),\n",
       " ('NEW_HAMPSHIRE',),\n",
       " ('NEW_JERSEY',),\n",
       " ('PENNSYLVANIA',),\n",
       " ('SOUTH_DAKOTA',),\n",
       " ('WASHINGTON',),\n",
       " ('WISCONSIN',)]"
      ]
     },
     "execution_count": 33,
     "metadata": {},
     "output_type": "execute_result"
    }
   ],
   "source": [
    "# question8\n",
    "sql = '''\n",
    "    SELECT state AS scores_missing_y2000\n",
    "    FROM naep\n",
    "    WHERE year = 2000\n",
    "    AND avg_math_4_score IS NULL\n",
    "'''\n",
    "\n",
    "results = engine.execute(sql)\n",
    "rows = results.fetchall()\n",
    "rows"
   ]
  },
  {
   "cell_type": "code",
   "execution_count": 52,
   "metadata": {},
   "outputs": [
    {
     "data": {
      "image/png": "[encoded data removed]",
      "text/plain": [
       "<Figure size 432x288 with 1 Axes>"
      ]
     },
     "metadata": {
      "needs_background": "light"
     },
     "output_type": "display_data"
    },
    {
     "data": {
      "text/plain": [
       "-0.6438780159473194"
      ]
     },
     "execution_count": 52,
     "metadata": {},
     "output_type": "execute_result"
    }
   ],
   "source": [
    "import matplotlib.pyplot as plt\n",
    "from sklearn.metrics import r2_score\n",
    "sql = '''\n",
    "    SELECT ROUND(avg_math_4_score, 2) AS avg_s, total_expenditure AS t_e\n",
    "    FROM naep left outer join finance\n",
    "    ON naep.id = finance.id\n",
    "    WHERE avg_math_4_score IS NOT NULL\n",
    "    AND naep.year = 2000\n",
    "    ORDER BY 2 DESC\n",
    "'''\n",
    "\n",
    "results = engine.execute(sql)\n",
    "rows = results.fetchall()\n",
    "rows\n",
    "x = [x['t_e'] for x in rows]\n",
    "y = [y['avg_s'] for y in rows]\n",
    "plt.plot(x,y)\n",
    "plt.show()\n",
    "# total_expenditure seems not correlated with the average score\n",
    "\n",
    "r2_score(x, y)\n",
    "# the r2 showing the two parameter not correlated very well and they then to be negative correlated which is opposite to the assumption "
   ]
  },
  {
   "cell_type": "code",
   "execution_count": null,
   "metadata": {},
   "outputs": [],
   "source": []
  }
 ],
 "metadata": {
  "kernelspec": {
   "display_name": "Python 3",
   "language": "python",
   "name": "python3"
  },
  "language_info": {
   "codemirror_mode": {
    "name": "ipython",
    "version": 3
   },
   "file_extension": ".py",
   "mimetype": "text/x-python",
   "name": "python",
   "nbconvert_exporter": "python",
   "pygments_lexer": "ipython3",
   "version": "3.7.3"
  }
 },
 "nbformat": 4,
 "nbformat_minor": 2
}
