{
 "cells": [
  {
   "cell_type": "code",
   "execution_count": null,
   "metadata": {},
   "outputs": [],
   "source": [
    "the research proposal\n",
    "\n",
    "The problem\n",
    "\n",
    "to convert more captured droids. \n",
    "\n",
    "The potential solution\n",
    "\n",
    "A different slogn may help to recruit more captured droids\n",
    "\n",
    "to find out which slogan is more effective? the more effective of the slogn should convert more droid\n",
    "to the dark side, therefore measure the number of droid that converted after hearing the slogn will\n",
    "reflect the effectiveness of different slogn\n",
    "\n",
    "Method of testing the solution\n",
    "control1: (25 captured droids) recruiter1 delivers slogn_1\n",
    "treatment1: (25 captured droids) recruiter1 delivers slogn_2\n",
    "    \n",
    "control2: (25 captured droids) recruiter2 delivers slogn_1\n",
    "treatment2: (25 captured droids) recruiter2 delivers slogn_2\n",
    "    \n",
    "compare the recuritment rate between control and treatment for both recruiter\n",
    "if both recruiters have a higher recruit rate with slogn_1\n",
    "then slogn_1 is more effective slogn"
   ]
  }
 ],
 "metadata": {
  "kernelspec": {
   "display_name": "Python 3",
   "language": "python",
   "name": "python3"
  },
  "language_info": {
   "codemirror_mode": {
    "name": "ipython",
    "version": 3
   },
   "file_extension": ".py",
   "mimetype": "text/x-python",
   "name": "python",
   "nbconvert_exporter": "python",
   "pygments_lexer": "ipython3",
   "version": "3.7.3"
  }
 },
 "nbformat": 4,
 "nbformat_minor": 2
}
