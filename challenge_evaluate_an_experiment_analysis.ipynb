{
 "cells": [
  {
   "cell_type": "code",
   "execution_count": null,
   "metadata": {},
   "outputs": [],
   "source": [
    "# question1\n",
    "\n",
    "# The test involves two recruiter may cause bias, since they may diliver the slogan using different\n",
    "# methods and the different dilivery ways may lead different number of droids convert instead of the \n",
    "# different slogan being used\n",
    "\n",
    "# I will send the two recruiter with both slogans to different group of droids, then will campare the \n",
    "# convert rate for both recruiter with different slogans\n",
    "\n",
    "# question2\n",
    "\n",
    "# the two envoys were sent to two different group of planets(friendly and unfriendly) which is lead to a\n",
    "# bias for this study. Also, the number of people involved in the survey were not mentioned, if the sample\n",
    "# size is significant different between two envoys which may indicate that the smaller sample size may not \n",
    "# representative\n",
    "\n",
    "# I will send both envoys to the same friendly and unfriendly planets and speaking with the same total number \n",
    "# of people. Then the percentage of people change their attitudes to more favorable on each planet could use\n",
    "# for judge who should be the representattive in the future\n",
    "\n",
    "# question3\n",
    "\n",
    "# there are more HR worker in three countries so an average rate will lead to a bias toward to the three \n",
    "# countries instead of five countries. Also different countries may associate with different unique characteristics\n",
    "# so compare between different countries may lead to an inaccurate results. Also self report may introduce bias\n",
    "\n",
    "# measure the satisfaction indirectly such the churn rate. compare the average satisfaction rate within one department\n",
    "# and consider more country related factors\n",
    "\n",
    "# question4\n",
    "\n",
    "# the 'opt in' function may introduce bias, since people who tend use the app alot more like to set up the data\n",
    "# collection function. So the data collected mostly from the people who activity alot. \n",
    "\n",
    "# change the 'opt in' to an automatic data collection\n",
    "\n",
    "# question5\n",
    "\n",
    "# the sample was not randomly selected, for those people who got B version came in a certain period of time\n",
    "# randomize the test as well as the seating\n",
    "\n",
    "\n",
    "\n"
   ]
  }
 ],
 "metadata": {
  "kernelspec": {
   "display_name": "Python 3",
   "language": "python",
   "name": "python3"
  },
  "language_info": {
   "codemirror_mode": {
    "name": "ipython",
    "version": 3
   },
   "file_extension": ".py",
   "mimetype": "text/x-python",
   "name": "python",
   "nbconvert_exporter": "python",
   "pygments_lexer": "ipython3",
   "version": "3.7.3"
  }
 },
 "nbformat": 4,
 "nbformat_minor": 2
}
