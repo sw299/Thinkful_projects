{
 "cells": [
  {
   "cell_type": "code",
   "execution_count": 133,
   "metadata": {},
   "outputs": [],
   "source": [
    "import matplotlib.pyplot as plt\n",
    "import seaborn as sns\n",
    "import numpy as np\n",
    "import pandas as pd\n",
    "import seaborn as sns\n",
    "import scipy.stats as stats\n",
    "from sqlalchemy import create_engine\n",
    "from scipy.stats.mstats import winsorize\n",
    "import numpy as np\n",
    "import pandas as pd\n",
    "import matplotlib.pyplot as plt\n",
    "from sqlalchemy import create_engine\n",
    "from sklearn.model_selection import train_test_split, cross_val_score\n",
    "from sklearn.metrics import mean_absolute_error\n",
    "from statsmodels.tools.eval_measures import mse, rmse\n",
    "from sklearn.linear_model import LinearRegression, LassoCV, RidgeCV, ElasticNetCV\n",
    "from sklearn import datasets, linear_model\n",
    "import statsmodels.api as sm\n",
    "import matplotlib.pyplot as plt\n",
    "import numpy as np\n",
    "import pandas as pd\n",
    "from sklearn.linear_model import LinearRegression\n",
    "from sklearn.model_selection import train_test_split\n",
    "from sklearn.metrics import mean_absolute_error\n",
    "import statsmodels.api as sm\n",
    "from statsmodels.tools.eval_measures import mse, rmse\n",
    "from sqlalchemy import create_engine\n",
    "import matplotlib.pyplot as plt\n",
    "import seaborn as sns\n",
    "import numpy as np\n",
    "import pandas as pd\n",
    "import seaborn as sns\n",
    "import scipy.stats as stats\n",
    "from sqlalchemy import create_engine\n",
    "from scipy.stats.mstats import winsorize\n",
    "\n",
    "import numpy as np\n",
    "import pandas as pd\n",
    "import matplotlib.pyplot as plt\n",
    "from sqlalchemy import create_engine\n",
    "from sklearn.model_selection import train_test_split, cross_val_score\n",
    "from sklearn.metrics import mean_absolute_error\n",
    "from statsmodels.tools.eval_measures import mse, rmse\n",
    "from sklearn.linear_model import LinearRegression, LassoCV, RidgeCV, ElasticNetCV"
   ]
  },
  {
   "cell_type": "code",
   "execution_count": 44,
   "metadata": {},
   "outputs": [
    {
     "name": "stdout",
     "output_type": "stream",
     "text": [
      "<class 'pandas.core.frame.DataFrame'>\n",
      "Int64Index: 1338 entries, 0 to 1337\n",
      "Data columns (total 7 columns):\n",
      "age         1338 non-null int64\n",
      "sex         1338 non-null object\n",
      "bmi         1338 non-null float64\n",
      "children    1338 non-null int64\n",
      "smoker      1338 non-null object\n",
      "region      1338 non-null object\n",
      "charges     1338 non-null float64\n",
      "dtypes: float64(2), int64(2), object(3)\n",
      "memory usage: 83.6+ KB\n"
     ]
    }
   ],
   "source": [
    "data = pd.read_csv('insurance.csv')\n",
    "df = data.dropna()\n",
    "df.info()"
   ]
  },
  {
   "cell_type": "code",
   "execution_count": 63,
   "metadata": {},
   "outputs": [
    {
     "data": {
      "text/html": [
       "<div>\n",
       "<style scoped>\n",
       "    .dataframe tbody tr th:only-of-type {\n",
       "        vertical-align: middle;\n",
       "    }\n",
       "\n",
       "    .dataframe tbody tr th {\n",
       "        vertical-align: top;\n",
       "    }\n",
       "\n",
       "    .dataframe thead th {\n",
       "        text-align: right;\n",
       "    }\n",
       "</style>\n",
       "<table border=\"1\" class=\"dataframe\">\n",
       "  <thead>\n",
       "    <tr style=\"text-align: right;\">\n",
       "      <th></th>\n",
       "      <th>age</th>\n",
       "      <th>sex</th>\n",
       "      <th>bmi</th>\n",
       "      <th>children</th>\n",
       "      <th>smoker</th>\n",
       "      <th>region</th>\n",
       "      <th>charges</th>\n",
       "    </tr>\n",
       "  </thead>\n",
       "  <tbody>\n",
       "    <tr>\n",
       "      <th>0</th>\n",
       "      <td>19</td>\n",
       "      <td>female</td>\n",
       "      <td>27.900</td>\n",
       "      <td>0</td>\n",
       "      <td>yes</td>\n",
       "      <td>southwest</td>\n",
       "      <td>16884.92400</td>\n",
       "    </tr>\n",
       "    <tr>\n",
       "      <th>1</th>\n",
       "      <td>18</td>\n",
       "      <td>male</td>\n",
       "      <td>33.770</td>\n",
       "      <td>1</td>\n",
       "      <td>no</td>\n",
       "      <td>southeast</td>\n",
       "      <td>1725.55230</td>\n",
       "    </tr>\n",
       "    <tr>\n",
       "      <th>2</th>\n",
       "      <td>28</td>\n",
       "      <td>male</td>\n",
       "      <td>33.000</td>\n",
       "      <td>3</td>\n",
       "      <td>no</td>\n",
       "      <td>southeast</td>\n",
       "      <td>4449.46200</td>\n",
       "    </tr>\n",
       "    <tr>\n",
       "      <th>3</th>\n",
       "      <td>33</td>\n",
       "      <td>male</td>\n",
       "      <td>22.705</td>\n",
       "      <td>0</td>\n",
       "      <td>no</td>\n",
       "      <td>northwest</td>\n",
       "      <td>21984.47061</td>\n",
       "    </tr>\n",
       "    <tr>\n",
       "      <th>4</th>\n",
       "      <td>32</td>\n",
       "      <td>male</td>\n",
       "      <td>28.880</td>\n",
       "      <td>0</td>\n",
       "      <td>no</td>\n",
       "      <td>northwest</td>\n",
       "      <td>3866.85520</td>\n",
       "    </tr>\n",
       "  </tbody>\n",
       "</table>\n",
       "</div>"
      ],
      "text/plain": [
       "   age     sex     bmi  children smoker     region      charges\n",
       "0   19  female  27.900         0    yes  southwest  16884.92400\n",
       "1   18    male  33.770         1     no  southeast   1725.55230\n",
       "2   28    male  33.000         3     no  southeast   4449.46200\n",
       "3   33    male  22.705         0     no  northwest  21984.47061\n",
       "4   32    male  28.880         0     no  northwest   3866.85520"
      ]
     },
     "execution_count": 63,
     "metadata": {},
     "output_type": "execute_result"
    }
   ],
   "source": [
    "df.head()\n",
    "# corr = df.corr()\n",
    "# sns.heatmap(corr, square=True, annot=True, linewidths=.5)"
   ]
  },
  {
   "cell_type": "code",
   "execution_count": 79,
   "metadata": {},
   "outputs": [],
   "source": [
    "target = df['charges']\n",
    "feature_numerical = df[['age', 'bmi', 'children']]\n",
    "feature_cat = df[['sex', 'region', 'smoker']]\n",
    "feature_cat_dummy = pd.get_dummies(feature_cat, drop_first=True)\n",
    "\n",
    "feature = pd.concat([feature_numerical, feature_cat_dummy], axis=1)\n",
    "feature.dropna(how='any', inplace=True)\n",
    "\n",
    "# assuming bmi interact with smoke\n",
    "feature['bmi_smoker'] = feature.bmi*feature.smoker_yes\n"
   ]
  },
  {
   "cell_type": "code",
   "execution_count": 163,
   "metadata": {},
   "outputs": [],
   "source": [
    "# preparing train and test data\n",
    "x_train, x_test, y_train, y_test = train_test_split(feature, target, test_size=0.2, random_state=456)"
   ]
  },
  {
   "cell_type": "markdown",
   "metadata": {},
   "source": [
    "Linear_Regression - cross_validation - ols_regression_results"
   ]
  },
  {
   "cell_type": "code",
   "execution_count": 208,
   "metadata": {},
   "outputs": [
    {
     "name": "stdout",
     "output_type": "stream",
     "text": [
      "r2 in the training set: 0.8428675678615056\n",
      "r2 in the test set: 0.8293081886819502\n",
      "mean_absolute_error: 2804.5165139570477\n",
      "mse: 22149965.78883179\n",
      "rmse: 4706.375015745323\n",
      "mean_absolue_percentage_error: 29.07950864024354\n",
      "[0.84624593 0.88332681 0.81777471 0.91226225 0.85053427 0.84015424\n",
      " 0.78063649 0.7824932  0.81231914 0.81770046]\n",
      "                            OLS Regression Results                            \n",
      "==============================================================================\n",
      "Dep. Variable:                charges   R-squared:                       0.843\n",
      "Model:                            OLS   Adj. R-squared:                  0.842\n",
      "Method:                 Least Squares   F-statistic:                     631.8\n",
      "Date:                Tue, 01 Oct 2019   Prob (F-statistic):               0.00\n",
      "Time:                        09:45:51   Log-Likelihood:                -10602.\n",
      "No. Observations:                1070   AIC:                         2.122e+04\n",
      "Df Residuals:                    1060   BIC:                         2.127e+04\n",
      "Df Model:                           9                                         \n",
      "Covariance Type:            nonrobust                                         \n",
      "====================================================================================\n",
      "                       coef    std err          t      P>|t|      [0.025      0.975]\n",
      "------------------------------------------------------------------------------------\n",
      "const            -1586.8453    981.536     -1.617      0.106   -3512.819     339.129\n",
      "age                261.7106     10.725     24.402      0.000     240.666     282.756\n",
      "bmi                 11.7506     29.195      0.402      0.687     -45.536      69.037\n",
      "children           518.5887    124.023      4.181      0.000     275.230     761.947\n",
      "sex_male          -501.3156    300.630     -1.668      0.096   -1091.213      88.582\n",
      "region_northwest  -827.4398    429.419     -1.927      0.054   -1670.048      15.168\n",
      "region_southeast -1388.8349    431.145     -3.221      0.001   -2234.830    -542.840\n",
      "region_southwest -1267.9088    433.587     -2.924      0.004   -2118.696    -417.122\n",
      "smoker_yes       -2.198e+04   1883.772    -11.666      0.000   -2.57e+04   -1.83e+04\n",
      "bmi_smoker        1493.3070     59.921     24.921      0.000    1375.730    1610.884\n",
      "==============================================================================\n",
      "Omnibus:                      553.354   Durbin-Watson:                   1.900\n",
      "Prob(Omnibus):                  0.000   Jarque-Bera (JB):             2943.145\n",
      "Skew:                           2.446   Prob(JB):                         0.00\n",
      "Kurtosis:                       9.486   Cond. No.                         673.\n",
      "==============================================================================\n",
      "\n",
      "Warnings:\n",
      "[1] Standard Errors assume that the covariance matrix of the errors is correctly specified.\n"
     ]
    },
    {
     "name": "stderr",
     "output_type": "stream",
     "text": [
      "C:\\ProgramData\\Anaconda3\\lib\\site-packages\\numpy\\core\\fromnumeric.py:2389: FutureWarning: Method .ptp is deprecated and will be removed in a future version. Use numpy.ptp instead.\n",
      "  return ptp(axis=axis, out=out, **kwargs)\n"
     ]
    },
    {
     "data": {
      "text/plain": [
       "[<matplotlib.lines.Line2D at 0x1ec706d3390>]"
      ]
     },
     "execution_count": 208,
     "metadata": {},
     "output_type": "execute_result"
    },
    {
     "data": {
      "image/png": "[encoded data removed]",
      "text/plain": [
       "<Figure size 432x288 with 1 Axes>"
      ]
     },
     "metadata": {
      "needs_background": "light"
     },
     "output_type": "display_data"
    }
   ],
   "source": [
    "# linear_regression\n",
    "lrm = linear_model.LinearRegression()\n",
    "\n",
    "lrm.fit(x_train, y_train)\n",
    "y_test_pred = lrm.predict(x_test)\n",
    "y_train_pred = lrm.predict(x_train)\n",
    "print('r2 in the training set: {}'.format(lrm.score(x_train, y_train)))\n",
    "print('r2 in the test set: {}'.format(lrm.score(x_test, y_test)))\n",
    "print('mean_absolute_error: {}'.format(mean_absolute_error(y_test, y_test_pred)))\n",
    "print('mse: {}'.format(mse(y_test, y_test_pred)))\n",
    "print('rmse: {}'.format(rmse(y_test, y_test_pred)))\n",
    "print('mean_absolue_percentage_error: {}'.format(np.mean(abs((y_test-y_test_pred)/y_test))*100))\n",
    "\n",
    "# cross_validation\n",
    "results = cross_val_score(lrm, x_train, y_train, cv=10)\n",
    "print(results)\n",
    "\n",
    "# ols_regression_summary\n",
    "x_train = sm.add_constant(x_train)\n",
    "result = sm.OLS(y_train, x_train).fit()\n",
    "print(result.summary())\n",
    "\n",
    "# from the summary, it seems bmi is not a significant factor, therefore can be removed.\n",
    "# it seems add_constant to the x_train will reduce the r2. Why?????????????\n",
    "\n",
    "plt.scatter(y_test, y_test_pred)\n",
    "plt.plot(y_test, y_test, c='r')"
   ]
  },
  {
   "cell_type": "markdown",
   "metadata": {},
   "source": [
    "Knn_regression"
   ]
  },
  {
   "cell_type": "code",
   "execution_count": 226,
   "metadata": {},
   "outputs": [
    {
     "name": "stdout",
     "output_type": "stream",
     "text": [
      "0.87510061272212\n",
      "0.8755238938176292\n",
      "r2 in the training set: 0.87510061272212\n",
      "r2 in the test set: 0.8755238938176292\n",
      "mean_absolute_error: 2513.975423977612\n",
      "mse: 18642124.151716866\n",
      "rmse: 4317.652620547056\n",
      "mean_absolue_percentage_error: 33.97992720164476\n"
     ]
    },
    {
     "data": {
      "image/png": "[encoded data removed]",
      "text/plain": [
       "<Figure size 432x288 with 1 Axes>"
      ]
     },
     "metadata": {
      "needs_background": "light"
     },
     "output_type": "display_data"
    }
   ],
   "source": [
    "x_train, x_test, y_train, y_test = train_test_split(feature, target, test_size=0.2, random_state=455)\n",
    "\n",
    "# without weight funcion\n",
    "\n",
    "from sklearn import neighbors\n",
    "knn1 = neighbors.KNeighborsRegressor(n_neighbors=5)\n",
    "knn1.fit(x_train, y_train)\n",
    "y_test_pred = knn1.predict(x_test)\n",
    "y_train_pred = knn1.predict(x_train)\n",
    "\n",
    "plt.scatter(y_test_pred, y_test)\n",
    "plt.plot(y_test, y_test, c='r')\n",
    "\n",
    "plt.scatter(y_train_pred, y_train)\n",
    "plt.plot(y_train, y_train, c='b')\n",
    "\n",
    "print(knn1.score(x_train, y_train))\n",
    "print(knn1.score(x_test, y_test))\n",
    "print('r2 in the training set: {}'.format(knn1.score(x_train, y_train)))\n",
    "print('r2 in the test set: {}'.format(knn1.score(x_test, y_test)))\n",
    "print('mean_absolute_error: {}'.format(mean_absolute_error(y_test, y_test_pred)))\n",
    "print('mse: {}'.format(mse(y_test, y_test_pred)))\n",
    "print('rmse: {}'.format(rmse(y_test, y_test_pred)))\n",
    "print('mean_absolue_percentage_error: {}'.format(np.mean(abs((y_test-y_test_pred)/y_test))*100))"
   ]
  },
  {
   "cell_type": "code",
   "execution_count": 227,
   "metadata": {},
   "outputs": [
    {
     "name": "stdout",
     "output_type": "stream",
     "text": [
      "0.9983240933699704\n",
      "0.8755220080531164\n",
      "r2 in the training set: 0.9983240933699704\n",
      "r2 in the test set: 0.8755220080531164\n",
      "mean_absolute_error: 2504.722504023785\n",
      "mse: 18642406.572634816\n",
      "rmse: 4317.685325800714\n",
      "mean_absolue_percentage_error: 32.606461023831095\n"
     ]
    },
    {
     "data": {
      "text/plain": [
       "[<matplotlib.lines.Line2D at 0x1ec99bdee80>]"
      ]
     },
     "execution_count": 227,
     "metadata": {},
     "output_type": "execute_result"
    },
    {
     "data": {
      "image/png": "[encoded data removed]",
      "text/plain": [
       "<Figure size 432x288 with 1 Axes>"
      ]
     },
     "metadata": {
      "needs_background": "light"
     },
     "output_type": "display_data"
    }
   ],
   "source": [
    "# with weight function\n",
    "knn2 = neighbors.KNeighborsRegressor(n_neighbors=5, weights='distance')\n",
    "knn2.fit(x_train, y_train)\n",
    "y_test_pred = knn2.predict(x_test)\n",
    "y_train_pred = knn2.predict(x_train)\n",
    "\n",
    "plt.scatter(y_test_pred, y_test)\n",
    "plt.plot(y_test, y_test, c='r')\n",
    "\n",
    "print(knn2.score(x_train, y_train))\n",
    "print(knn2.score(x_test, y_test))\n",
    "print('r2 in the training set: {}'.format(knn2.score(x_train, y_train)))\n",
    "print('r2 in the test set: {}'.format(knn2.score(x_test, y_test)))\n",
    "print('mean_absolute_error: {}'.format(mean_absolute_error(y_test, y_test_pred)))\n",
    "print('mse: {}'.format(mse(y_test, y_test_pred)))\n",
    "print('rmse: {}'.format(rmse(y_test, y_test_pred)))\n",
    "print('mean_absolue_percentage_error: {}'.format(np.mean(abs((y_test-y_test_pred)/y_test))*100))\n",
    "\n",
    "#  adding the weights function lead to a clearly overfitting problem\n",
    "\n",
    "plt.scatter(y_train_pred, y_train)\n",
    "plt.plot(y_train, y_train, c='b')\n"
   ]
  },
  {
   "cell_type": "code",
   "execution_count": 229,
   "metadata": {},
   "outputs": [
    {
     "name": "stdout",
     "output_type": "stream",
     "text": [
      "[0.85502873 0.75176177 0.87254798 0.82318734 0.84431505]\n",
      "[0.86162693 0.76052776 0.8735406  0.82053983 0.84423889]\n",
      "0.8320948006440162 0.03998184232988501\n",
      "0.8293681749486476 0.04196981050757527\n"
     ]
    }
   ],
   "source": [
    "score_without_weights = cross_val_score(knn1, feature, target, cv=5)\n",
    "score_with_weights = cross_val_score(knn2, feature, target, cv=5)\n",
    "print(score_with_weights)\n",
    "print(score_without_weights)\n",
    "print(score_without_weights.mean(), score_without_weights.std())\n",
    "print(score_with_weights.mean(), score_with_weights.std())\n",
    "\n",
    "# the cross validation score indicate a overfitting for both model"
   ]
  },
  {
   "cell_type": "markdown",
   "metadata": {},
   "source": [
    "From this study, the knn regression model works better than the OLS regression model"
   ]
  }
 ],
 "metadata": {
  "kernelspec": {
   "display_name": "Python 3",
   "language": "python",
   "name": "python3"
  },
  "language_info": {
   "codemirror_mode": {
    "name": "ipython",
    "version": 3
   },
   "file_extension": ".py",
   "mimetype": "text/x-python",
   "name": "python",
   "nbconvert_exporter": "python",
   "pygments_lexer": "ipython3",
   "version": "3.7.3"
  }
 },
 "nbformat": 4,
 "nbformat_minor": 2
}
