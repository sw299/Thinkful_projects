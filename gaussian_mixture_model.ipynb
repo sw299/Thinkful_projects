{
 "cells": [
  {
   "cell_type": "code",
   "execution_count": 3,
   "metadata": {},
   "outputs": [],
   "source": [
    "import matplotlib.pyplot as plt\n",
    "import seaborn as sns\n",
    "import numpy as np\n",
    "import pandas as pd\n",
    "import seaborn as sns\n",
    "import scipy.stats as stats\n",
    "from sqlalchemy import create_engine\n",
    "from scipy.stats.mstats import winsorize\n",
    "import matplotlib.pyplot as plt\n",
    "from sklearn.preprocessing import StandardScaler\n",
    "from sklearn.cluster import DBSCAN\n",
    "from sklearn.decomposition import PCA\n",
    "from sklearn import datasets, metrics\n",
    "import numpy as np\n",
    "import pandas as pd\n",
    "import matplotlib.pyplot as plt\n",
    "from matplotlib.patches import Ellipse\n",
    "from sklearn.preprocessing import StandardScaler\n",
    "from sklearn.mixture import GaussianMixture\n",
    "from sklearn.decomposition import PCA\n",
    "from sklearn import datasets, metrics\n",
    "\n",
    "postgres_user = 'dsbc_student'\n",
    "postgres_pw = '7*.8G9QH21'\n",
    "postgres_host = '142.93.121.174'\n",
    "postgres_port = '5432'\n",
    "postgres_db = 'heartdisease'\n",
    "\n",
    "engine = create_engine('postgresql://{}:{}@{}:{}/{}'.format(postgres_user, postgres_pw, \n",
    "                                                            postgres_host, postgres_port, postgres_db))\n",
    "data = pd.read_sql_query('select * from heartdisease', con=engine)\n",
    "engine.dispose()"
   ]
  },
  {
   "cell_type": "code",
   "execution_count": 5,
   "metadata": {},
   "outputs": [],
   "source": [
    "X = data.iloc[:, :13]\n",
    "y = data.iloc[:, 13]\n",
    "\n",
    "# Replace missing values (marked by ?) with a 0\n",
    "X = X.replace(to_replace='?', value=0)\n",
    "\n",
    "# Binarize y so that 1 means heart disease diagnosis and 0 means no diagnosis\n",
    "y = np.where(y > 0, 0, 1)\n",
    "\n",
    "scaler = StandardScaler()\n",
    "X = scaler.fit_transform(X)"
   ]
  },
  {
   "cell_type": "code",
   "execution_count": 14,
   "metadata": {},
   "outputs": [
    {
     "name": "stdout",
     "output_type": "stream",
     "text": [
      "0.18389186035089963\n",
      "0.13628813153331445\n"
     ]
    }
   ],
   "source": [
    "gmm = GaussianMixture(n_components=2, random_state=123)\n",
    "\n",
    "pred1 = gmm.fit_predict(X)\n",
    "\n",
    "print(metrics.adjusted_rand_score(y, pred1))\n",
    "print(metrics.silhouette_score(X, pred1))"
   ]
  },
  {
   "cell_type": "code",
   "execution_count": null,
   "metadata": {},
   "outputs": [],
   "source": [
    "the ARI score and silhouette score is lower than kmeans and hierar"
   ]
  },
  {
   "cell_type": "code",
   "execution_count": 15,
   "metadata": {},
   "outputs": [
    {
     "name": "stdout",
     "output_type": "stream",
     "text": [
      "0.18389186035089963\n",
      "0.13628813153331445\n"
     ]
    }
   ],
   "source": [
    "gmm = GaussianMixture(n_components=2, random_state=123, covariance_type='full')\n",
    "\n",
    "pred2 = gmm.fit_predict(X)\n",
    "\n",
    "print(metrics.adjusted_rand_score(y, pred2))\n",
    "print(metrics.silhouette_score(X, pred2))"
   ]
  },
  {
   "cell_type": "code",
   "execution_count": 16,
   "metadata": {},
   "outputs": [
    {
     "name": "stdout",
     "output_type": "stream",
     "text": [
      "0.18389186035089963\n",
      "0.13628813153331445\n"
     ]
    }
   ],
   "source": [
    "gmm = GaussianMixture(n_components=2, random_state=123, covariance_type='tied')\n",
    "\n",
    "pred3 = gmm.fit_predict(X)\n",
    "\n",
    "print(metrics.adjusted_rand_score(y, pred3))\n",
    "print(metrics.silhouette_score(X, pred3))"
   ]
  },
  {
   "cell_type": "code",
   "execution_count": 17,
   "metadata": {},
   "outputs": [
    {
     "name": "stdout",
     "output_type": "stream",
     "text": [
      "0.18389186035089963\n",
      "0.13628813153331445\n"
     ]
    }
   ],
   "source": [
    "gmm = GaussianMixture(n_components=2, random_state=123, covariance_type='diag')\n",
    "\n",
    "pred4 = gmm.fit_predict(X)\n",
    "\n",
    "print(metrics.adjusted_rand_score(y, pred4))\n",
    "print(metrics.silhouette_score(X, pred4))"
   ]
  },
  {
   "cell_type": "code",
   "execution_count": 18,
   "metadata": {},
   "outputs": [
    {
     "name": "stdout",
     "output_type": "stream",
     "text": [
      "0.20765243525722465\n",
      "0.12468753110276873\n"
     ]
    }
   ],
   "source": [
    "gmm = GaussianMixture(n_components=2, random_state=123, covariance_type='spherical')\n",
    "\n",
    "pred5 = gmm.fit_predict(X)\n",
    "\n",
    "print(metrics.adjusted_rand_score(y, pred5))\n",
    "print(metrics.silhouette_score(X, pred5))"
   ]
  },
  {
   "cell_type": "code",
   "execution_count": null,
   "metadata": {},
   "outputs": [],
   "source": []
  }
 ],
 "metadata": {
  "kernelspec": {
   "display_name": "Python 3",
   "language": "python",
   "name": "python3"
  },
  "language_info": {
   "codemirror_mode": {
    "name": "ipython",
    "version": 3
   },
   "file_extension": ".py",
   "mimetype": "text/x-python",
   "name": "python",
   "nbconvert_exporter": "python",
   "pygments_lexer": "ipython3",
   "version": "3.7.3"
  }
 },
 "nbformat": 4,
 "nbformat_minor": 2
}
