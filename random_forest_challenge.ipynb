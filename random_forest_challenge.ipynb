{
 "cells": [
  {
   "cell_type": "code",
   "execution_count": 18,
   "metadata": {},
   "outputs": [],
   "source": [
    "import pandas as pd\n",
    "import numpy as np\n",
    "import matplotlib.pyplot as plt\n",
    "%matplotlib inline\n",
    "import warnings\n",
    "\n",
    "data = pd.read_csv('Admission_Predict.csv')"
   ]
  },
  {
   "cell_type": "code",
   "execution_count": 121,
   "metadata": {},
   "outputs": [
    {
     "name": "stdout",
     "output_type": "stream",
     "text": [
      "Index(['Serial No.', 'GRE Score', 'TOEFL Score', 'University Rating', 'SOP',\n",
      "       'LOR', 'CGPA', 'Research', 'Chance of Admit'],\n",
      "      dtype='object')\n"
     ]
    }
   ],
   "source": [
    "data = data.rename(str.strip, axis='columns')\n",
    "x = data.drop(['Chance of Admit'], axis=1)\n",
    "y = data['Chance of Admit']\n",
    "print(data.columns)"
   ]
  },
  {
   "cell_type": "code",
   "execution_count": 44,
   "metadata": {},
   "outputs": [],
   "source": [
    "from sklearn.model_selection import train_test_split, cross_val_score\n",
    "\n",
    "x_train, x_test, y_train, y_test = train_test_split(x, y, test_size=0.2, random_state=456)"
   ]
  },
  {
   "cell_type": "code",
   "execution_count": 122,
   "metadata": {},
   "outputs": [
    {
     "name": "stdout",
     "output_type": "stream",
     "text": [
      "[0.62887035 0.6281431  0.68811839 0.53325018 0.72964752]\n",
      "0.7153682771458336\n",
      "--- 0.042001962661743164 seconds ---\n"
     ]
    },
    {
     "data": {
      "image/png": "[encoded data removed]",
      "text/plain": [
       "<Figure size 432x288 with 1 Axes>"
      ]
     },
     "metadata": {
      "needs_background": "light"
     },
     "output_type": "display_data"
    }
   ],
   "source": [
    "from sklearn.tree import DecisionTreeRegressor\n",
    "import time\n",
    "start_time = time.time()\n",
    "\n",
    "dtr = DecisionTreeRegressor(random_state=456, max_depth=5, min_samples_split=20, max_features=3) \n",
    "dtr.fit(x_train, y_train)\n",
    "prediction = dtr.predict(x_test)\n",
    "\n",
    "plt.scatter(prediction, y_test)\n",
    "plt.plot(y_test, y_test, c='r')\n",
    "\n",
    "print(cross_val_score(dtr, x_train, y_train, cv=5))\n",
    "print(dtr.score(x_test, y_test))\n",
    "\n",
    "print(\"--- %s seconds ---\" % (time.time() - start_time))"
   ]
  },
  {
   "cell_type": "code",
   "execution_count": 123,
   "metadata": {},
   "outputs": [
    {
     "name": "stderr",
     "output_type": "stream",
     "text": [
      "C:\\ProgramData\\Anaconda3\\lib\\site-packages\\sklearn\\ensemble\\forest.py:245: FutureWarning: The default value of n_estimators will change from 10 in version 0.20 to 100 in 0.22.\n",
      "  \"10 in version 0.20 to 100 in 0.22.\", FutureWarning)\n"
     ]
    },
    {
     "name": "stdout",
     "output_type": "stream",
     "text": [
      "[0.74879537 0.8355682  0.75872483 0.78754511 0.83837037]\n",
      "0.7989717113786343\n",
      "--- 0.08196187019348145 seconds ---\n"
     ]
    },
    {
     "data": {
      "image/png": "[encoded data removed]",
      "text/plain": [
       "<Figure size 432x288 with 1 Axes>"
      ]
     },
     "metadata": {
      "needs_background": "light"
     },
     "output_type": "display_data"
    }
   ],
   "source": [
    "from sklearn import ensemble\n",
    "import time\n",
    "start_time = time.time()\n",
    "\n",
    "rfr = ensemble.RandomForestRegressor(random_state=456, max_depth=10, min_samples_split=20,  max_features=3)\n",
    "rfr.fit(x_train, y_train)\n",
    "prediction1 = rfr.predict(x_test)\n",
    "\n",
    "plt.scatter(prediction1, y_test)\n",
    "plt.plot(y_test, y_test, c='r')\n",
    "\n",
    "print(cross_val_score(rfr, x_train, y_train, cv=5))\n",
    "print(rfr.score(x_test, y_test))\n",
    "\n",
    "print(\"--- %s seconds ---\" % (time.time() - start_time))\n"
   ]
  },
  {
   "cell_type": "markdown",
   "metadata": {},
   "source": [
    "using random forest tree did take longer time for running the simulation, also the accuracy of prediction on the test samples \n",
    "seems increased 10% after using the random forest"
   ]
  },
  {
   "cell_type": "code",
   "execution_count": null,
   "metadata": {},
   "outputs": [],
   "source": []
  }
 ],
 "metadata": {
  "kernelspec": {
   "display_name": "Python 3",
   "language": "python",
   "name": "python3"
  },
  "language_info": {
   "codemirror_mode": {
    "name": "ipython",
    "version": 3
   },
   "file_extension": ".py",
   "mimetype": "text/x-python",
   "name": "python",
   "nbconvert_exporter": "python",
   "pygments_lexer": "ipython3",
   "version": "3.7.3"
  }
 },
 "nbformat": 4,
 "nbformat_minor": 2
}
